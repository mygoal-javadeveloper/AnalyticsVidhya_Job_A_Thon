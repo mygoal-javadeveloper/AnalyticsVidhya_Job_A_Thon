{
  "nbformat": 4,
  "nbformat_minor": 0,
  "metadata": {
    "colab": {
      "name": "Nisrin_Dhoondia_AnalyticsVidhyaJobAThon_Submission.ipynb",
      "provenance": [],
      "collapsed_sections": []
    },
    "kernelspec": {
      "name": "python3",
      "display_name": "Python 3"
    }
  },
  "cells": [
    {
      "cell_type": "markdown",
      "metadata": {
        "id": "XQvJ7sUW9JsM"
      },
      "source": [
        "# Name: Nisrin Dhoondia  \r\n",
        "\r\n",
        "# Email: nisrin.dhoondia@gmail.com  \r\n",
        "\r\n",
        "# LinkedIn: https://www.linkedin.com/in/nisrin-dhoondia-javadeveloper/  \r\n",
        "\r\n"
      ]
    },
    {
      "cell_type": "markdown",
      "metadata": {
        "id": "jmLGtYRMgHak"
      },
      "source": [
        "# Analytics Vidhya - Job-a-Thon  \r\n",
        "\r\n",
        "# Health Insurance Lead Prediction  \r\n",
        "\r\n",
        "Your Client FinMan is a financial services company that provides various financial services like loan, investment funds, insurance etc. to its customers. FinMan wishes to cross-sell health insurance to the existing customers who may or may not hold insurance policies with the company. The company recommend health insurance to it's customers based on their profile once these customers land on the website. Customers might browse the recommended health insurance policy and consequently fill up a form to apply. **When these customers fill-up the form, their Response towards the policy is considered positive and they are classified as a lead.**\r\n",
        "\r\n",
        "Once these leads are acquired, the sales advisors approach them to convert and thus the company can sell proposed health insurance to these leads in a more efficient manner.\r\n",
        "\r\n",
        "Now the company needs your help in building a model to predict whether the person will be interested in their proposed Health plan/policy given the information about:\r\n",
        "\r\n",
        "  * Demographics (city, age, region etc.)  \r\n",
        "  * Information regarding holding policies of the customer  \r\n",
        "  * Recommended Policy Information\r\n",
        "\r\n",
        "## Data Dictionary  \r\n",
        "\r\n",
        "## Train Data  \r\n",
        "\r\n",
        "|Variable|Definition|\r\n",
        "|:----|:----|\r\n",
        "|ID|Unique Identifier for a row|\r\n",
        "|City_Code|Code for the City of the customers|\r\n",
        "|Region_Code|Code for the Region of the customers|\r\n",
        "|Accomodation_Type|Customer Owns or Rents the house|\r\n",
        "|Reco_Insurance_Type|Joint or Individual type for the recommended insurance|\r\n",
        "|Upper_Age|Maximum age of the customer|\r\n",
        "|Lower _Age|Minimum age of the customer|\r\n",
        "|Is_Spouse|If the customers are married to each other (in case of joint insurance)|\r\n",
        "|Health_Indicator|Encoded values for health of the customer|\r\n",
        "|Holding_Policy_Duration|Duration (in years) of holding policy (a policy that customer has already subscribed to with the company)|\r\n",
        "|Holding_Policy_Type|Type of holding policy|\r\n",
        "|Reco_Policy_Cat|Encoded value for recommended health insurance|\r\n",
        "|Reco_Policy_Premium|Annual Premium (INR) for the recommended health insurance|\r\n",
        "|Response (Target)|\t0 : Customer did not show interest in the recommended policy, 1 : Customer showed interest in the recommended policy|\r\n",
        "\r\n",
        "## Test Data  \r\n",
        "|Variable|Definition|\r\n",
        "|:----|:----|\r\n",
        "|ID|Unique Identifier for a row|\r\n",
        "|City_Code|Code for the City of the customers|\r\n",
        "|Region_Code|Code for the Region of the customers|\r\n",
        "|Accomodation_Type|Customer Owns or Rents the house|\r\n",
        "|Reco_Insurance_Type|Joint or Individual type for the recommended insurance|\r\n",
        "|Upper_Age|Maximum age of the customer|\r\n",
        "|Lower _Age|Minimum age of the customer|\r\n",
        "|Is_Spouse|If the customers are married to each other (in case of joint insurance)|\r\n",
        "|Health_Indicator|Encoded values for health of the customer|\r\n",
        "|Holding_Policy_Duration|Duration (in years) of holding policy (a policy that customer has already subscribed to with the company)|\r\n",
        "|Holding_Policy_Type|Type of holding policy|\r\n",
        "|Reco_Policy_Cat|Encoded value for recommended health insurance|\r\n",
        "|Reco_Policy_Premium|Annual Premium (INR) for the recommended health insurance|\r\n",
        "\r\n",
        "\r\n"
      ]
    },
    {
      "cell_type": "markdown",
      "metadata": {
        "id": "I3BlXNy7CIKN"
      },
      "source": [
        "# Loading the Dataset\r\n",
        "# Analyzing the Data \r\n",
        "# Data Preprocessing"
      ]
    },
    {
      "cell_type": "code",
      "metadata": {
        "id": "sIy-pDTQ-yZ0"
      },
      "source": [
        "# importing libraries\r\n",
        "import numpy as np\r\n",
        "import pandas as pd\r\n",
        "import matplotlib.pyplot as plt\r\n",
        "import seaborn as sns\r\n",
        "%matplotlib inline\r\n",
        "\r\n",
        "from sklearn.preprocessing import MinMaxScaler\r\n",
        "from sklearn.impute import SimpleImputer\r\n",
        "\r\n",
        "\r\n",
        "import warnings\r\n",
        "warnings.filterwarnings('ignore')"
      ],
      "execution_count": 1,
      "outputs": []
    },
    {
      "cell_type": "code",
      "metadata": {
        "id": "kTXbEAf8_L4s",
        "colab": {
          "resources": {
            "http://localhost:8080/nbextensions/google.colab/files.js": {
              "data": "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",
              "ok": true,
              "headers": [
                [
                  "content-type",
                  "application/javascript"
                ]
              ],
              "status": 200,
              "status_text": ""
            }
          },
          "base_uri": "https://localhost:8080/",
          "height": 106
        },
        "outputId": "05b028a7-e001-4a7b-b47b-3f4a257fe80a"
      },
      "source": [
        "# uploading csv file for accessing it in this notebook\r\n",
        "from google.colab import files\r\n",
        "uploaded = files.upload()"
      ],
      "execution_count": 2,
      "outputs": [
        {
          "output_type": "display_data",
          "data": {
            "text/html": [
              "\n",
              "     <input type=\"file\" id=\"files-31c299d1-534b-4139-8bb9-6841ba9ffa57\" name=\"files[]\" multiple disabled\n",
              "        style=\"border:none\" />\n",
              "     <output id=\"result-31c299d1-534b-4139-8bb9-6841ba9ffa57\">\n",
              "      Upload widget is only available when the cell has been executed in the\n",
              "      current browser session. Please rerun this cell to enable.\n",
              "      </output>\n",
              "      <script src=\"/nbextensions/google.colab/files.js\"></script> "
            ],
            "text/plain": [
              "<IPython.core.display.HTML object>"
            ]
          },
          "metadata": {
            "tags": []
          }
        },
        {
          "output_type": "stream",
          "text": [
            "Saving test_healthinsurance.csv to test_healthinsurance.csv\n",
            "Saving train_healthinsurance.csv to train_healthinsurance.csv\n"
          ],
          "name": "stdout"
        }
      ]
    },
    {
      "cell_type": "code",
      "metadata": {
        "id": "YAn4U57VhHD4"
      },
      "source": [
        "# reading csv files and assigning to the variable for accessing\r\n",
        "df_healthinsurance = pd.read_csv('train_healthinsurance.csv',)\r\n",
        "dftest_healthinsurance = pd.read_csv('test_healthinsurance.csv')"
      ],
      "execution_count": 3,
      "outputs": []
    },
    {
      "cell_type": "code",
      "metadata": {
        "id": "TQE03yya_2sC",
        "colab": {
          "base_uri": "https://localhost:8080/",
          "height": 241
        },
        "outputId": "8043e437-544a-4105-94ec-4f8a2bcabb51"
      },
      "source": [
        "# first 5 rows content of the dataset\r\n",
        "df_healthinsurance.head()"
      ],
      "execution_count": 4,
      "outputs": [
        {
          "output_type": "execute_result",
          "data": {
            "text/html": [
              "<div>\n",
              "<style scoped>\n",
              "    .dataframe tbody tr th:only-of-type {\n",
              "        vertical-align: middle;\n",
              "    }\n",
              "\n",
              "    .dataframe tbody tr th {\n",
              "        vertical-align: top;\n",
              "    }\n",
              "\n",
              "    .dataframe thead th {\n",
              "        text-align: right;\n",
              "    }\n",
              "</style>\n",
              "<table border=\"1\" class=\"dataframe\">\n",
              "  <thead>\n",
              "    <tr style=\"text-align: right;\">\n",
              "      <th></th>\n",
              "      <th>ID</th>\n",
              "      <th>City_Code</th>\n",
              "      <th>Region_Code</th>\n",
              "      <th>Accomodation_Type</th>\n",
              "      <th>Reco_Insurance_Type</th>\n",
              "      <th>Upper_Age</th>\n",
              "      <th>Lower_Age</th>\n",
              "      <th>Is_Spouse</th>\n",
              "      <th>Health Indicator</th>\n",
              "      <th>Holding_Policy_Duration</th>\n",
              "      <th>Holding_Policy_Type</th>\n",
              "      <th>Reco_Policy_Cat</th>\n",
              "      <th>Reco_Policy_Premium</th>\n",
              "      <th>Response</th>\n",
              "    </tr>\n",
              "  </thead>\n",
              "  <tbody>\n",
              "    <tr>\n",
              "      <th>0</th>\n",
              "      <td>1</td>\n",
              "      <td>C3</td>\n",
              "      <td>3213</td>\n",
              "      <td>Rented</td>\n",
              "      <td>Individual</td>\n",
              "      <td>36</td>\n",
              "      <td>36</td>\n",
              "      <td>No</td>\n",
              "      <td>X1</td>\n",
              "      <td>14+</td>\n",
              "      <td>3.0</td>\n",
              "      <td>22</td>\n",
              "      <td>11628.0</td>\n",
              "      <td>0</td>\n",
              "    </tr>\n",
              "    <tr>\n",
              "      <th>1</th>\n",
              "      <td>2</td>\n",
              "      <td>C5</td>\n",
              "      <td>1117</td>\n",
              "      <td>Owned</td>\n",
              "      <td>Joint</td>\n",
              "      <td>75</td>\n",
              "      <td>22</td>\n",
              "      <td>No</td>\n",
              "      <td>X2</td>\n",
              "      <td>NaN</td>\n",
              "      <td>NaN</td>\n",
              "      <td>22</td>\n",
              "      <td>30510.0</td>\n",
              "      <td>0</td>\n",
              "    </tr>\n",
              "    <tr>\n",
              "      <th>2</th>\n",
              "      <td>3</td>\n",
              "      <td>C5</td>\n",
              "      <td>3732</td>\n",
              "      <td>Owned</td>\n",
              "      <td>Individual</td>\n",
              "      <td>32</td>\n",
              "      <td>32</td>\n",
              "      <td>No</td>\n",
              "      <td>NaN</td>\n",
              "      <td>1.0</td>\n",
              "      <td>1.0</td>\n",
              "      <td>19</td>\n",
              "      <td>7450.0</td>\n",
              "      <td>1</td>\n",
              "    </tr>\n",
              "    <tr>\n",
              "      <th>3</th>\n",
              "      <td>4</td>\n",
              "      <td>C24</td>\n",
              "      <td>4378</td>\n",
              "      <td>Owned</td>\n",
              "      <td>Joint</td>\n",
              "      <td>52</td>\n",
              "      <td>48</td>\n",
              "      <td>No</td>\n",
              "      <td>X1</td>\n",
              "      <td>14+</td>\n",
              "      <td>3.0</td>\n",
              "      <td>19</td>\n",
              "      <td>17780.0</td>\n",
              "      <td>0</td>\n",
              "    </tr>\n",
              "    <tr>\n",
              "      <th>4</th>\n",
              "      <td>5</td>\n",
              "      <td>C8</td>\n",
              "      <td>2190</td>\n",
              "      <td>Rented</td>\n",
              "      <td>Individual</td>\n",
              "      <td>44</td>\n",
              "      <td>44</td>\n",
              "      <td>No</td>\n",
              "      <td>X2</td>\n",
              "      <td>3.0</td>\n",
              "      <td>1.0</td>\n",
              "      <td>16</td>\n",
              "      <td>10404.0</td>\n",
              "      <td>0</td>\n",
              "    </tr>\n",
              "  </tbody>\n",
              "</table>\n",
              "</div>"
            ],
            "text/plain": [
              "   ID City_Code  Region_Code  ... Reco_Policy_Cat Reco_Policy_Premium  Response\n",
              "0   1        C3         3213  ...              22             11628.0         0\n",
              "1   2        C5         1117  ...              22             30510.0         0\n",
              "2   3        C5         3732  ...              19              7450.0         1\n",
              "3   4       C24         4378  ...              19             17780.0         0\n",
              "4   5        C8         2190  ...              16             10404.0         0\n",
              "\n",
              "[5 rows x 14 columns]"
            ]
          },
          "metadata": {
            "tags": []
          },
          "execution_count": 4
        }
      ]
    },
    {
      "cell_type": "code",
      "metadata": {
        "id": "qjEmZPNI_6BA",
        "colab": {
          "base_uri": "https://localhost:8080/",
          "height": 241
        },
        "outputId": "447cf6ce-b4e2-4303-8eec-6849b8917674"
      },
      "source": [
        "# last 5 rows content of the dataset\r\n",
        "df_healthinsurance.tail()"
      ],
      "execution_count": 5,
      "outputs": [
        {
          "output_type": "execute_result",
          "data": {
            "text/html": [
              "<div>\n",
              "<style scoped>\n",
              "    .dataframe tbody tr th:only-of-type {\n",
              "        vertical-align: middle;\n",
              "    }\n",
              "\n",
              "    .dataframe tbody tr th {\n",
              "        vertical-align: top;\n",
              "    }\n",
              "\n",
              "    .dataframe thead th {\n",
              "        text-align: right;\n",
              "    }\n",
              "</style>\n",
              "<table border=\"1\" class=\"dataframe\">\n",
              "  <thead>\n",
              "    <tr style=\"text-align: right;\">\n",
              "      <th></th>\n",
              "      <th>ID</th>\n",
              "      <th>City_Code</th>\n",
              "      <th>Region_Code</th>\n",
              "      <th>Accomodation_Type</th>\n",
              "      <th>Reco_Insurance_Type</th>\n",
              "      <th>Upper_Age</th>\n",
              "      <th>Lower_Age</th>\n",
              "      <th>Is_Spouse</th>\n",
              "      <th>Health Indicator</th>\n",
              "      <th>Holding_Policy_Duration</th>\n",
              "      <th>Holding_Policy_Type</th>\n",
              "      <th>Reco_Policy_Cat</th>\n",
              "      <th>Reco_Policy_Premium</th>\n",
              "      <th>Response</th>\n",
              "    </tr>\n",
              "  </thead>\n",
              "  <tbody>\n",
              "    <tr>\n",
              "      <th>50877</th>\n",
              "      <td>50878</td>\n",
              "      <td>C4</td>\n",
              "      <td>845</td>\n",
              "      <td>Rented</td>\n",
              "      <td>Individual</td>\n",
              "      <td>22</td>\n",
              "      <td>22</td>\n",
              "      <td>No</td>\n",
              "      <td>X3</td>\n",
              "      <td>NaN</td>\n",
              "      <td>NaN</td>\n",
              "      <td>18</td>\n",
              "      <td>7704.0</td>\n",
              "      <td>0</td>\n",
              "    </tr>\n",
              "    <tr>\n",
              "      <th>50878</th>\n",
              "      <td>50879</td>\n",
              "      <td>C5</td>\n",
              "      <td>4188</td>\n",
              "      <td>Rented</td>\n",
              "      <td>Individual</td>\n",
              "      <td>27</td>\n",
              "      <td>27</td>\n",
              "      <td>No</td>\n",
              "      <td>X3</td>\n",
              "      <td>7.0</td>\n",
              "      <td>3.0</td>\n",
              "      <td>4</td>\n",
              "      <td>5408.0</td>\n",
              "      <td>0</td>\n",
              "    </tr>\n",
              "    <tr>\n",
              "      <th>50879</th>\n",
              "      <td>50880</td>\n",
              "      <td>C1</td>\n",
              "      <td>442</td>\n",
              "      <td>Rented</td>\n",
              "      <td>Individual</td>\n",
              "      <td>63</td>\n",
              "      <td>63</td>\n",
              "      <td>No</td>\n",
              "      <td>X2</td>\n",
              "      <td>14+</td>\n",
              "      <td>1.0</td>\n",
              "      <td>12</td>\n",
              "      <td>11374.0</td>\n",
              "      <td>0</td>\n",
              "    </tr>\n",
              "    <tr>\n",
              "      <th>50880</th>\n",
              "      <td>50881</td>\n",
              "      <td>C1</td>\n",
              "      <td>4</td>\n",
              "      <td>Owned</td>\n",
              "      <td>Joint</td>\n",
              "      <td>71</td>\n",
              "      <td>49</td>\n",
              "      <td>No</td>\n",
              "      <td>X2</td>\n",
              "      <td>2.0</td>\n",
              "      <td>2.0</td>\n",
              "      <td>16</td>\n",
              "      <td>28179.2</td>\n",
              "      <td>1</td>\n",
              "    </tr>\n",
              "    <tr>\n",
              "      <th>50881</th>\n",
              "      <td>50882</td>\n",
              "      <td>C3</td>\n",
              "      <td>3866</td>\n",
              "      <td>Rented</td>\n",
              "      <td>Individual</td>\n",
              "      <td>24</td>\n",
              "      <td>24</td>\n",
              "      <td>No</td>\n",
              "      <td>X3</td>\n",
              "      <td>2.0</td>\n",
              "      <td>3.0</td>\n",
              "      <td>18</td>\n",
              "      <td>11424.0</td>\n",
              "      <td>0</td>\n",
              "    </tr>\n",
              "  </tbody>\n",
              "</table>\n",
              "</div>"
            ],
            "text/plain": [
              "          ID City_Code  ...  Reco_Policy_Premium Response\n",
              "50877  50878        C4  ...               7704.0        0\n",
              "50878  50879        C5  ...               5408.0        0\n",
              "50879  50880        C1  ...              11374.0        0\n",
              "50880  50881        C1  ...              28179.2        1\n",
              "50881  50882        C3  ...              11424.0        0\n",
              "\n",
              "[5 rows x 14 columns]"
            ]
          },
          "metadata": {
            "tags": []
          },
          "execution_count": 5
        }
      ]
    },
    {
      "cell_type": "code",
      "metadata": {
        "id": "vy5--pIL_8l1",
        "colab": {
          "base_uri": "https://localhost:8080/",
          "height": 241
        },
        "outputId": "1560ca0c-fa60-4623-c7e5-cca1716e0ea0"
      },
      "source": [
        "# first 5 rows content of the test dataset\r\n",
        "dftest_healthinsurance.head()"
      ],
      "execution_count": 6,
      "outputs": [
        {
          "output_type": "execute_result",
          "data": {
            "text/html": [
              "<div>\n",
              "<style scoped>\n",
              "    .dataframe tbody tr th:only-of-type {\n",
              "        vertical-align: middle;\n",
              "    }\n",
              "\n",
              "    .dataframe tbody tr th {\n",
              "        vertical-align: top;\n",
              "    }\n",
              "\n",
              "    .dataframe thead th {\n",
              "        text-align: right;\n",
              "    }\n",
              "</style>\n",
              "<table border=\"1\" class=\"dataframe\">\n",
              "  <thead>\n",
              "    <tr style=\"text-align: right;\">\n",
              "      <th></th>\n",
              "      <th>ID</th>\n",
              "      <th>City_Code</th>\n",
              "      <th>Region_Code</th>\n",
              "      <th>Accomodation_Type</th>\n",
              "      <th>Reco_Insurance_Type</th>\n",
              "      <th>Upper_Age</th>\n",
              "      <th>Lower_Age</th>\n",
              "      <th>Is_Spouse</th>\n",
              "      <th>Health Indicator</th>\n",
              "      <th>Holding_Policy_Duration</th>\n",
              "      <th>Holding_Policy_Type</th>\n",
              "      <th>Reco_Policy_Cat</th>\n",
              "      <th>Reco_Policy_Premium</th>\n",
              "    </tr>\n",
              "  </thead>\n",
              "  <tbody>\n",
              "    <tr>\n",
              "      <th>0</th>\n",
              "      <td>50883</td>\n",
              "      <td>C1</td>\n",
              "      <td>156</td>\n",
              "      <td>Owned</td>\n",
              "      <td>Individual</td>\n",
              "      <td>30</td>\n",
              "      <td>30</td>\n",
              "      <td>No</td>\n",
              "      <td>NaN</td>\n",
              "      <td>6.0</td>\n",
              "      <td>3.0</td>\n",
              "      <td>5</td>\n",
              "      <td>11934.0</td>\n",
              "    </tr>\n",
              "    <tr>\n",
              "      <th>1</th>\n",
              "      <td>50884</td>\n",
              "      <td>C4</td>\n",
              "      <td>7</td>\n",
              "      <td>Owned</td>\n",
              "      <td>Joint</td>\n",
              "      <td>69</td>\n",
              "      <td>68</td>\n",
              "      <td>Yes</td>\n",
              "      <td>X1</td>\n",
              "      <td>3.0</td>\n",
              "      <td>3.0</td>\n",
              "      <td>18</td>\n",
              "      <td>32204.8</td>\n",
              "    </tr>\n",
              "    <tr>\n",
              "      <th>2</th>\n",
              "      <td>50885</td>\n",
              "      <td>C1</td>\n",
              "      <td>564</td>\n",
              "      <td>Rented</td>\n",
              "      <td>Individual</td>\n",
              "      <td>28</td>\n",
              "      <td>28</td>\n",
              "      <td>No</td>\n",
              "      <td>X3</td>\n",
              "      <td>2.0</td>\n",
              "      <td>4.0</td>\n",
              "      <td>17</td>\n",
              "      <td>9240.0</td>\n",
              "    </tr>\n",
              "    <tr>\n",
              "      <th>3</th>\n",
              "      <td>50886</td>\n",
              "      <td>C3</td>\n",
              "      <td>1177</td>\n",
              "      <td>Rented</td>\n",
              "      <td>Individual</td>\n",
              "      <td>23</td>\n",
              "      <td>23</td>\n",
              "      <td>No</td>\n",
              "      <td>X3</td>\n",
              "      <td>3.0</td>\n",
              "      <td>3.0</td>\n",
              "      <td>18</td>\n",
              "      <td>9086.0</td>\n",
              "    </tr>\n",
              "    <tr>\n",
              "      <th>4</th>\n",
              "      <td>50887</td>\n",
              "      <td>C1</td>\n",
              "      <td>951</td>\n",
              "      <td>Owned</td>\n",
              "      <td>Individual</td>\n",
              "      <td>75</td>\n",
              "      <td>75</td>\n",
              "      <td>No</td>\n",
              "      <td>X3</td>\n",
              "      <td>NaN</td>\n",
              "      <td>NaN</td>\n",
              "      <td>5</td>\n",
              "      <td>22534.0</td>\n",
              "    </tr>\n",
              "  </tbody>\n",
              "</table>\n",
              "</div>"
            ],
            "text/plain": [
              "      ID City_Code  ...  Reco_Policy_Cat Reco_Policy_Premium\n",
              "0  50883        C1  ...                5             11934.0\n",
              "1  50884        C4  ...               18             32204.8\n",
              "2  50885        C1  ...               17              9240.0\n",
              "3  50886        C3  ...               18              9086.0\n",
              "4  50887        C1  ...                5             22534.0\n",
              "\n",
              "[5 rows x 13 columns]"
            ]
          },
          "metadata": {
            "tags": []
          },
          "execution_count": 6
        }
      ]
    },
    {
      "cell_type": "code",
      "metadata": {
        "id": "62ymAp9yCd84",
        "colab": {
          "base_uri": "https://localhost:8080/",
          "height": 241
        },
        "outputId": "481ac360-ae13-48b7-f7b9-36fc7fe54442"
      },
      "source": [
        "# last 5 rows content of the dataset\r\n",
        "dftest_healthinsurance.tail()"
      ],
      "execution_count": 7,
      "outputs": [
        {
          "output_type": "execute_result",
          "data": {
            "text/html": [
              "<div>\n",
              "<style scoped>\n",
              "    .dataframe tbody tr th:only-of-type {\n",
              "        vertical-align: middle;\n",
              "    }\n",
              "\n",
              "    .dataframe tbody tr th {\n",
              "        vertical-align: top;\n",
              "    }\n",
              "\n",
              "    .dataframe thead th {\n",
              "        text-align: right;\n",
              "    }\n",
              "</style>\n",
              "<table border=\"1\" class=\"dataframe\">\n",
              "  <thead>\n",
              "    <tr style=\"text-align: right;\">\n",
              "      <th></th>\n",
              "      <th>ID</th>\n",
              "      <th>City_Code</th>\n",
              "      <th>Region_Code</th>\n",
              "      <th>Accomodation_Type</th>\n",
              "      <th>Reco_Insurance_Type</th>\n",
              "      <th>Upper_Age</th>\n",
              "      <th>Lower_Age</th>\n",
              "      <th>Is_Spouse</th>\n",
              "      <th>Health Indicator</th>\n",
              "      <th>Holding_Policy_Duration</th>\n",
              "      <th>Holding_Policy_Type</th>\n",
              "      <th>Reco_Policy_Cat</th>\n",
              "      <th>Reco_Policy_Premium</th>\n",
              "    </tr>\n",
              "  </thead>\n",
              "  <tbody>\n",
              "    <tr>\n",
              "      <th>21800</th>\n",
              "      <td>72683</td>\n",
              "      <td>C3</td>\n",
              "      <td>1044</td>\n",
              "      <td>Owned</td>\n",
              "      <td>Individual</td>\n",
              "      <td>45</td>\n",
              "      <td>45</td>\n",
              "      <td>No</td>\n",
              "      <td>X1</td>\n",
              "      <td>4.0</td>\n",
              "      <td>1.0</td>\n",
              "      <td>18</td>\n",
              "      <td>15884.0</td>\n",
              "    </tr>\n",
              "    <tr>\n",
              "      <th>21801</th>\n",
              "      <td>72684</td>\n",
              "      <td>C4</td>\n",
              "      <td>266</td>\n",
              "      <td>Owned</td>\n",
              "      <td>Individual</td>\n",
              "      <td>59</td>\n",
              "      <td>59</td>\n",
              "      <td>No</td>\n",
              "      <td>X5</td>\n",
              "      <td>6.0</td>\n",
              "      <td>3.0</td>\n",
              "      <td>18</td>\n",
              "      <td>21390.0</td>\n",
              "    </tr>\n",
              "    <tr>\n",
              "      <th>21802</th>\n",
              "      <td>72685</td>\n",
              "      <td>C12</td>\n",
              "      <td>2470</td>\n",
              "      <td>Owned</td>\n",
              "      <td>Individual</td>\n",
              "      <td>74</td>\n",
              "      <td>74</td>\n",
              "      <td>No</td>\n",
              "      <td>X3</td>\n",
              "      <td>NaN</td>\n",
              "      <td>NaN</td>\n",
              "      <td>1</td>\n",
              "      <td>17836.0</td>\n",
              "    </tr>\n",
              "    <tr>\n",
              "      <th>21803</th>\n",
              "      <td>72686</td>\n",
              "      <td>C10</td>\n",
              "      <td>1676</td>\n",
              "      <td>Rented</td>\n",
              "      <td>Individual</td>\n",
              "      <td>25</td>\n",
              "      <td>25</td>\n",
              "      <td>No</td>\n",
              "      <td>X4</td>\n",
              "      <td>3.0</td>\n",
              "      <td>1.0</td>\n",
              "      <td>19</td>\n",
              "      <td>11568.0</td>\n",
              "    </tr>\n",
              "    <tr>\n",
              "      <th>21804</th>\n",
              "      <td>72687</td>\n",
              "      <td>C2</td>\n",
              "      <td>3617</td>\n",
              "      <td>Owned</td>\n",
              "      <td>Individual</td>\n",
              "      <td>73</td>\n",
              "      <td>73</td>\n",
              "      <td>No</td>\n",
              "      <td>X2</td>\n",
              "      <td>14+</td>\n",
              "      <td>2.0</td>\n",
              "      <td>3</td>\n",
              "      <td>23040.0</td>\n",
              "    </tr>\n",
              "  </tbody>\n",
              "</table>\n",
              "</div>"
            ],
            "text/plain": [
              "          ID City_Code  ...  Reco_Policy_Cat Reco_Policy_Premium\n",
              "21800  72683        C3  ...               18             15884.0\n",
              "21801  72684        C4  ...               18             21390.0\n",
              "21802  72685       C12  ...                1             17836.0\n",
              "21803  72686       C10  ...               19             11568.0\n",
              "21804  72687        C2  ...                3             23040.0\n",
              "\n",
              "[5 rows x 13 columns]"
            ]
          },
          "metadata": {
            "tags": []
          },
          "execution_count": 7
        }
      ]
    },
    {
      "cell_type": "code",
      "metadata": {
        "id": "lGKY7qhbCiBf",
        "colab": {
          "base_uri": "https://localhost:8080/"
        },
        "outputId": "e36b599e-9d82-4f3b-9d03-0954892d9356"
      },
      "source": [
        "# getting all the columns name of the dataset\r\n",
        "df_healthinsurance.columns"
      ],
      "execution_count": 8,
      "outputs": [
        {
          "output_type": "execute_result",
          "data": {
            "text/plain": [
              "Index(['ID', 'City_Code', 'Region_Code', 'Accomodation_Type',\n",
              "       'Reco_Insurance_Type', 'Upper_Age', 'Lower_Age', 'Is_Spouse',\n",
              "       'Health Indicator', 'Holding_Policy_Duration', 'Holding_Policy_Type',\n",
              "       'Reco_Policy_Cat', 'Reco_Policy_Premium', 'Response'],\n",
              "      dtype='object')"
            ]
          },
          "metadata": {
            "tags": []
          },
          "execution_count": 8
        }
      ]
    },
    {
      "cell_type": "code",
      "metadata": {
        "id": "BjzYpaStw2sv"
      },
      "source": [
        "# changing Health Indicator column name to Health_Indicator for consistency\r\n",
        "df_healthinsurance.rename(columns={'Health Indicator' : 'Health_Indicator'}, inplace = True)"
      ],
      "execution_count": 9,
      "outputs": []
    },
    {
      "cell_type": "code",
      "metadata": {
        "id": "WmmOI78iCm-a",
        "colab": {
          "base_uri": "https://localhost:8080/"
        },
        "outputId": "2dae2289-93db-409b-d8db-c36d216467e0"
      },
      "source": [
        "# getting all the columns name of the test dataset\r\n",
        "dftest_healthinsurance.columns"
      ],
      "execution_count": 10,
      "outputs": [
        {
          "output_type": "execute_result",
          "data": {
            "text/plain": [
              "Index(['ID', 'City_Code', 'Region_Code', 'Accomodation_Type',\n",
              "       'Reco_Insurance_Type', 'Upper_Age', 'Lower_Age', 'Is_Spouse',\n",
              "       'Health Indicator', 'Holding_Policy_Duration', 'Holding_Policy_Type',\n",
              "       'Reco_Policy_Cat', 'Reco_Policy_Premium'],\n",
              "      dtype='object')"
            ]
          },
          "metadata": {
            "tags": []
          },
          "execution_count": 10
        }
      ]
    },
    {
      "cell_type": "code",
      "metadata": {
        "id": "j6UYJb4yw3Xc"
      },
      "source": [
        "# changing Health Indicator column name to Health_Indicator for consistency in test dataset\r\n",
        "dftest_healthinsurance.rename(columns={'Health Indicator' : 'Health_Indicator'}, inplace = True)"
      ],
      "execution_count": 11,
      "outputs": []
    },
    {
      "cell_type": "code",
      "metadata": {
        "id": "klaSk1BqCslh",
        "colab": {
          "base_uri": "https://localhost:8080/"
        },
        "outputId": "81f77018-210d-4db1-f3ec-6ef81b81443e"
      },
      "source": [
        "# getting brief overview of the dataset - number of columns and rows (shape of dataset), \r\n",
        "# columns names and its dtype, \r\n",
        "# how many non-null values it has \r\n",
        "# and memory usage\r\n",
        "df_healthinsurance.info()"
      ],
      "execution_count": 12,
      "outputs": [
        {
          "output_type": "stream",
          "text": [
            "<class 'pandas.core.frame.DataFrame'>\n",
            "RangeIndex: 50882 entries, 0 to 50881\n",
            "Data columns (total 14 columns):\n",
            " #   Column                   Non-Null Count  Dtype  \n",
            "---  ------                   --------------  -----  \n",
            " 0   ID                       50882 non-null  int64  \n",
            " 1   City_Code                50882 non-null  object \n",
            " 2   Region_Code              50882 non-null  int64  \n",
            " 3   Accomodation_Type        50882 non-null  object \n",
            " 4   Reco_Insurance_Type      50882 non-null  object \n",
            " 5   Upper_Age                50882 non-null  int64  \n",
            " 6   Lower_Age                50882 non-null  int64  \n",
            " 7   Is_Spouse                50882 non-null  object \n",
            " 8   Health_Indicator         39191 non-null  object \n",
            " 9   Holding_Policy_Duration  30631 non-null  object \n",
            " 10  Holding_Policy_Type      30631 non-null  float64\n",
            " 11  Reco_Policy_Cat          50882 non-null  int64  \n",
            " 12  Reco_Policy_Premium      50882 non-null  float64\n",
            " 13  Response                 50882 non-null  int64  \n",
            "dtypes: float64(2), int64(6), object(6)\n",
            "memory usage: 5.4+ MB\n"
          ],
          "name": "stdout"
        }
      ]
    },
    {
      "cell_type": "code",
      "metadata": {
        "id": "quzKy5tMCypj",
        "colab": {
          "base_uri": "https://localhost:8080/"
        },
        "outputId": "17e07dc9-6be0-4e1a-e82f-86b990f92fd1"
      },
      "source": [
        "# getting brief overview of the dataset - number of columns and rows (shape of dataset), \r\n",
        "# columns names and its dtype, \r\n",
        "# how many non-null values it has \r\n",
        "# and memory usage\r\n",
        "dftest_healthinsurance.info()"
      ],
      "execution_count": 13,
      "outputs": [
        {
          "output_type": "stream",
          "text": [
            "<class 'pandas.core.frame.DataFrame'>\n",
            "RangeIndex: 21805 entries, 0 to 21804\n",
            "Data columns (total 13 columns):\n",
            " #   Column                   Non-Null Count  Dtype  \n",
            "---  ------                   --------------  -----  \n",
            " 0   ID                       21805 non-null  int64  \n",
            " 1   City_Code                21805 non-null  object \n",
            " 2   Region_Code              21805 non-null  int64  \n",
            " 3   Accomodation_Type        21805 non-null  object \n",
            " 4   Reco_Insurance_Type      21805 non-null  object \n",
            " 5   Upper_Age                21805 non-null  int64  \n",
            " 6   Lower_Age                21805 non-null  int64  \n",
            " 7   Is_Spouse                21805 non-null  object \n",
            " 8   Health_Indicator         16778 non-null  object \n",
            " 9   Holding_Policy_Duration  13202 non-null  object \n",
            " 10  Holding_Policy_Type      13202 non-null  float64\n",
            " 11  Reco_Policy_Cat          21805 non-null  int64  \n",
            " 12  Reco_Policy_Premium      21805 non-null  float64\n",
            "dtypes: float64(2), int64(5), object(6)\n",
            "memory usage: 2.2+ MB\n"
          ],
          "name": "stdout"
        }
      ]
    },
    {
      "cell_type": "code",
      "metadata": {
        "id": "sN0nT2wC3J6p",
        "colab": {
          "base_uri": "https://localhost:8080/"
        },
        "outputId": "b9108b45-f019-4e93-b415-60dd2b77997a"
      },
      "source": [
        "# shape of the dataset\r\n",
        "df_healthinsurance.shape, dftest_healthinsurance.shape"
      ],
      "execution_count": 14,
      "outputs": [
        {
          "output_type": "execute_result",
          "data": {
            "text/plain": [
              "((50882, 14), (21805, 13))"
            ]
          },
          "metadata": {
            "tags": []
          },
          "execution_count": 14
        }
      ]
    },
    {
      "cell_type": "code",
      "metadata": {
        "id": "5vLjJLyq3NuW",
        "colab": {
          "base_uri": "https://localhost:8080/"
        },
        "outputId": "9a65650a-f367-4bb5-97e2-e5163da33087"
      },
      "source": [
        "# target column (dependent variable) all unique values count in percentage\r\n",
        "round(df_healthinsurance['Response'].value_counts(normalize = True) * 100, 2)"
      ],
      "execution_count": 15,
      "outputs": [
        {
          "output_type": "execute_result",
          "data": {
            "text/plain": [
              "0    76.01\n",
              "1    23.99\n",
              "Name: Response, dtype: float64"
            ]
          },
          "metadata": {
            "tags": []
          },
          "execution_count": 15
        }
      ]
    },
    {
      "cell_type": "code",
      "metadata": {
        "id": "NDSrLm8-5IbI",
        "colab": {
          "base_uri": "https://localhost:8080/",
          "height": 286
        },
        "outputId": "24fcf928-91d8-40b7-c959-a002c6b781ce"
      },
      "source": [
        "# visualization of dependant variable imbalance in the dataset\r\n",
        "sns.set(style = 'darkgrid')\r\n",
        "sns.countplot(x = 'Response', data = df_healthinsurance)\r\n",
        "plt.show()"
      ],
      "execution_count": 16,
      "outputs": [
        {
          "output_type": "display_data",
          "data": {
            "image/png": "[encoded data removed]",
            "text/plain": [
              "<Figure size 432x288 with 1 Axes>"
            ]
          },
          "metadata": {
            "tags": []
          }
        }
      ]
    },
    {
      "cell_type": "code",
      "metadata": {
        "id": "LSmJzG7qEExf",
        "colab": {
          "base_uri": "https://localhost:8080/"
        },
        "outputId": "2652355c-ce0f-4d6e-8eb7-ce7f46ea5913"
      },
      "source": [
        "# checking for any duplicate records\r\n",
        "df_healthinsurance.duplicated().sum()"
      ],
      "execution_count": 17,
      "outputs": [
        {
          "output_type": "execute_result",
          "data": {
            "text/plain": [
              "0"
            ]
          },
          "metadata": {
            "tags": []
          },
          "execution_count": 17
        }
      ]
    },
    {
      "cell_type": "code",
      "metadata": {
        "id": "J4E-vpSrD8ij",
        "colab": {
          "base_uri": "https://localhost:8080/"
        },
        "outputId": "07425255-e5c5-478d-c754-00aedeae036e"
      },
      "source": [
        "# checking for any duplicate records in test dataset too\r\n",
        "dftest_healthinsurance.duplicated().sum()"
      ],
      "execution_count": 18,
      "outputs": [
        {
          "output_type": "execute_result",
          "data": {
            "text/plain": [
              "0"
            ]
          },
          "metadata": {
            "tags": []
          },
          "execution_count": 18
        }
      ]
    },
    {
      "cell_type": "code",
      "metadata": {
        "id": "9-npH7EKEK7b",
        "colab": {
          "base_uri": "https://localhost:8080/"
        },
        "outputId": "de294343-0bab-4e5b-ace3-cc77e7c6dc4a"
      },
      "source": [
        "# checking for null values in dataset\r\n",
        "df_healthinsurance.isnull().sum()"
      ],
      "execution_count": 19,
      "outputs": [
        {
          "output_type": "execute_result",
          "data": {
            "text/plain": [
              "ID                             0\n",
              "City_Code                      0\n",
              "Region_Code                    0\n",
              "Accomodation_Type              0\n",
              "Reco_Insurance_Type            0\n",
              "Upper_Age                      0\n",
              "Lower_Age                      0\n",
              "Is_Spouse                      0\n",
              "Health_Indicator           11691\n",
              "Holding_Policy_Duration    20251\n",
              "Holding_Policy_Type        20251\n",
              "Reco_Policy_Cat                0\n",
              "Reco_Policy_Premium            0\n",
              "Response                       0\n",
              "dtype: int64"
            ]
          },
          "metadata": {
            "tags": []
          },
          "execution_count": 19
        }
      ]
    },
    {
      "cell_type": "code",
      "metadata": {
        "id": "niY-PxK8ExOg",
        "colab": {
          "base_uri": "https://localhost:8080/"
        },
        "outputId": "dab589ef-e352-4f03-b99a-7d85639a5665"
      },
      "source": [
        "# checking for null values in test dataset\r\n",
        "dftest_healthinsurance.isnull().sum()"
      ],
      "execution_count": 20,
      "outputs": [
        {
          "output_type": "execute_result",
          "data": {
            "text/plain": [
              "ID                            0\n",
              "City_Code                     0\n",
              "Region_Code                   0\n",
              "Accomodation_Type             0\n",
              "Reco_Insurance_Type           0\n",
              "Upper_Age                     0\n",
              "Lower_Age                     0\n",
              "Is_Spouse                     0\n",
              "Health_Indicator           5027\n",
              "Holding_Policy_Duration    8603\n",
              "Holding_Policy_Type        8603\n",
              "Reco_Policy_Cat               0\n",
              "Reco_Policy_Premium           0\n",
              "dtype: int64"
            ]
          },
          "metadata": {
            "tags": []
          },
          "execution_count": 20
        }
      ]
    },
    {
      "cell_type": "markdown",
      "metadata": {
        "id": "cpYnqgP2NiHs"
      },
      "source": [
        "### Filling the NaN values\r\n",
        "Finding the uniques values and its counts along with null value count in all the three columns that are having null values"
      ]
    },
    {
      "cell_type": "code",
      "metadata": {
        "id": "HAU5DaJPWoy9",
        "colab": {
          "base_uri": "https://localhost:8080/"
        },
        "outputId": "cbaffb00-3902-4d3c-e080-752efc1e2f1a"
      },
      "source": [
        "df_healthinsurance['Health_Indicator'].value_counts(dropna = False)"
      ],
      "execution_count": 21,
      "outputs": [
        {
          "output_type": "execute_result",
          "data": {
            "text/plain": [
              "X1     13010\n",
              "NaN    11691\n",
              "X2     10332\n",
              "X3      6762\n",
              "X4      5743\n",
              "X5      1727\n",
              "X6      1280\n",
              "X7       196\n",
              "X8        78\n",
              "X9        63\n",
              "Name: Health_Indicator, dtype: int64"
            ]
          },
          "metadata": {
            "tags": []
          },
          "execution_count": 21
        }
      ]
    },
    {
      "cell_type": "code",
      "metadata": {
        "id": "-WpuDrv5b2E7",
        "colab": {
          "base_uri": "https://localhost:8080/"
        },
        "outputId": "e5fc4b3f-fd62-4297-9d3d-c0f7f177d661"
      },
      "source": [
        "dftest_healthinsurance['Health_Indicator'].value_counts(dropna = False)"
      ],
      "execution_count": 22,
      "outputs": [
        {
          "output_type": "execute_result",
          "data": {
            "text/plain": [
              "X1     5614\n",
              "NaN    5027\n",
              "X2     4516\n",
              "X3     2846\n",
              "X4     2442\n",
              "X5      681\n",
              "X6      514\n",
              "X7       96\n",
              "X8       41\n",
              "X9       28\n",
              "Name: Health_Indicator, dtype: int64"
            ]
          },
          "metadata": {
            "tags": []
          },
          "execution_count": 22
        }
      ]
    },
    {
      "cell_type": "code",
      "metadata": {
        "id": "-GhLeADCeWtG",
        "colab": {
          "base_uri": "https://localhost:8080/"
        },
        "outputId": "786dbaef-b6c5-4e94-fb56-cf2363578f74"
      },
      "source": [
        "df_healthinsurance['Holding_Policy_Duration'].value_counts(dropna = False)"
      ],
      "execution_count": 23,
      "outputs": [
        {
          "output_type": "execute_result",
          "data": {
            "text/plain": [
              "NaN     20251\n",
              "1.0      4499\n",
              "14+      4335\n",
              "2.0      4260\n",
              "3.0      3586\n",
              "4.0      2771\n",
              "5.0      2362\n",
              "6.0      1894\n",
              "7.0      1645\n",
              "8.0      1316\n",
              "9.0      1114\n",
              "10.0      813\n",
              "11.0      546\n",
              "12.0      513\n",
              "13.0      511\n",
              "14.0      466\n",
              "Name: Holding_Policy_Duration, dtype: int64"
            ]
          },
          "metadata": {
            "tags": []
          },
          "execution_count": 23
        }
      ]
    },
    {
      "cell_type": "code",
      "metadata": {
        "id": "IVFUI7zmb-mw",
        "colab": {
          "base_uri": "https://localhost:8080/"
        },
        "outputId": "80dc6acd-44e7-4447-86c2-cfc200182f54"
      },
      "source": [
        "dftest_healthinsurance['Holding_Policy_Duration'].value_counts(dropna = False)"
      ],
      "execution_count": 24,
      "outputs": [
        {
          "output_type": "execute_result",
          "data": {
            "text/plain": [
              "NaN     8603\n",
              "14+     1892\n",
              "1.0     1891\n",
              "2.0     1772\n",
              "3.0     1606\n",
              "4.0     1205\n",
              "5.0      992\n",
              "6.0      903\n",
              "7.0      664\n",
              "8.0      569\n",
              "9.0      493\n",
              "10.0     333\n",
              "11.0     254\n",
              "13.0     221\n",
              "14.0     211\n",
              "12.0     196\n",
              "Name: Holding_Policy_Duration, dtype: int64"
            ]
          },
          "metadata": {
            "tags": []
          },
          "execution_count": 24
        }
      ]
    },
    {
      "cell_type": "code",
      "metadata": {
        "id": "zKKemeU_cTtz",
        "colab": {
          "base_uri": "https://localhost:8080/"
        },
        "outputId": "0b06d124-3bb5-4bd2-de01-9b506280f1a1"
      },
      "source": [
        "df_healthinsurance['Holding_Policy_Type'].value_counts(dropna = False)"
      ],
      "execution_count": 25,
      "outputs": [
        {
          "output_type": "execute_result",
          "data": {
            "text/plain": [
              "NaN    20251\n",
              "3.0    13279\n",
              "1.0     8173\n",
              "2.0     5005\n",
              "4.0     4174\n",
              "Name: Holding_Policy_Type, dtype: int64"
            ]
          },
          "metadata": {
            "tags": []
          },
          "execution_count": 25
        }
      ]
    },
    {
      "cell_type": "code",
      "metadata": {
        "id": "cuYuJA_xe2Hl",
        "colab": {
          "base_uri": "https://localhost:8080/"
        },
        "outputId": "c605b323-9f7c-4e40-b806-bbcef7345029"
      },
      "source": [
        "df_healthinsurance['Holding_Policy_Type'].describe()"
      ],
      "execution_count": 26,
      "outputs": [
        {
          "output_type": "execute_result",
          "data": {
            "text/plain": [
              "count    30631.000000\n",
              "mean         2.439228\n",
              "std          1.025923\n",
              "min          1.000000\n",
              "25%          1.000000\n",
              "50%          3.000000\n",
              "75%          3.000000\n",
              "max          4.000000\n",
              "Name: Holding_Policy_Type, dtype: float64"
            ]
          },
          "metadata": {
            "tags": []
          },
          "execution_count": 26
        }
      ]
    },
    {
      "cell_type": "code",
      "metadata": {
        "id": "SWS92wk1ce0f",
        "colab": {
          "base_uri": "https://localhost:8080/"
        },
        "outputId": "aac1c53b-2541-4c96-cbbd-e74e9bc6bb8d"
      },
      "source": [
        "dftest_healthinsurance['Holding_Policy_Type'].value_counts(dropna = False)"
      ],
      "execution_count": 27,
      "outputs": [
        {
          "output_type": "execute_result",
          "data": {
            "text/plain": [
              "NaN    8603\n",
              "3.0    5572\n",
              "1.0    3574\n",
              "2.0    2150\n",
              "4.0    1906\n",
              "Name: Holding_Policy_Type, dtype: int64"
            ]
          },
          "metadata": {
            "tags": []
          },
          "execution_count": 27
        }
      ]
    },
    {
      "cell_type": "code",
      "metadata": {
        "id": "wU5dfGxpclus",
        "colab": {
          "base_uri": "https://localhost:8080/"
        },
        "outputId": "b2f2e6cc-16e6-4241-d409-945eec53693d"
      },
      "source": [
        "dftest_healthinsurance['Holding_Policy_Type'].describe()"
      ],
      "execution_count": 28,
      "outputs": [
        {
          "output_type": "execute_result",
          "data": {
            "text/plain": [
              "count    13202.000000\n",
              "mean         2.440085\n",
              "std          1.037627\n",
              "min          1.000000\n",
              "25%          1.000000\n",
              "50%          3.000000\n",
              "75%          3.000000\n",
              "max          4.000000\n",
              "Name: Holding_Policy_Type, dtype: float64"
            ]
          },
          "metadata": {
            "tags": []
          },
          "execution_count": 28
        }
      ]
    },
    {
      "cell_type": "markdown",
      "metadata": {
        "id": "V4V-wQuxOGHO"
      },
      "source": [
        "Filling the null values in Health_Indicator and Holding_Policy_Duration columns using SimpleImputer with most frequent strategy and also for Holding_Policy_Type using mode.  \r\n",
        "\r\n",
        "Used mode in Holding_Policy_Type because people go with policy which is most popular and same goes for Holding_Policy_Duration. For Health_Indicator used most frequent strategy too as most of the policy holder are at same health level mostly.\r\n",
        "\r\n"
      ]
    },
    {
      "cell_type": "code",
      "metadata": {
        "id": "k5D5MW2yh14p"
      },
      "source": [
        "impute = SimpleImputer(missing_values=np.nan, strategy='most_frequent')\r\n",
        "df_healthinsurance['Health_Indicator'] = impute.fit_transform(df_healthinsurance[['Health_Indicator']])\r\n",
        "df_healthinsurance['Holding_Policy_Duration'] = impute.fit_transform(df_healthinsurance[['Holding_Policy_Duration']])\r\n",
        "dftest_healthinsurance['Health_Indicator'] = impute.fit_transform(dftest_healthinsurance[['Health_Indicator']])\r\n",
        "dftest_healthinsurance['Holding_Policy_Duration'] = impute.fit_transform(dftest_healthinsurance[['Holding_Policy_Duration']])"
      ],
      "execution_count": 29,
      "outputs": []
    },
    {
      "cell_type": "code",
      "metadata": {
        "id": "bt4lYT5RlvRG"
      },
      "source": [
        "df_healthinsurance.loc[(df_healthinsurance['Holding_Policy_Type'].isnull()),'Holding_Policy_Type'] = df_healthinsurance['Holding_Policy_Type'].mode()[0]\r\n",
        "dftest_healthinsurance.loc[(dftest_healthinsurance['Holding_Policy_Type'].isnull()),'Holding_Policy_Type'] = dftest_healthinsurance['Holding_Policy_Type'].mode()[0]"
      ],
      "execution_count": 30,
      "outputs": []
    },
    {
      "cell_type": "markdown",
      "metadata": {
        "id": "fr_TsFzmQYUR"
      },
      "source": [
        "Rechecking the dataset after filling all the null values in it"
      ]
    },
    {
      "cell_type": "code",
      "metadata": {
        "id": "Zt_4TulHlRAt",
        "colab": {
          "base_uri": "https://localhost:8080/"
        },
        "outputId": "b6e1bdfd-8256-4474-ecb3-dfa7b497e3ab"
      },
      "source": [
        "df_healthinsurance.isnull().sum()"
      ],
      "execution_count": 31,
      "outputs": [
        {
          "output_type": "execute_result",
          "data": {
            "text/plain": [
              "ID                         0\n",
              "City_Code                  0\n",
              "Region_Code                0\n",
              "Accomodation_Type          0\n",
              "Reco_Insurance_Type        0\n",
              "Upper_Age                  0\n",
              "Lower_Age                  0\n",
              "Is_Spouse                  0\n",
              "Health_Indicator           0\n",
              "Holding_Policy_Duration    0\n",
              "Holding_Policy_Type        0\n",
              "Reco_Policy_Cat            0\n",
              "Reco_Policy_Premium        0\n",
              "Response                   0\n",
              "dtype: int64"
            ]
          },
          "metadata": {
            "tags": []
          },
          "execution_count": 31
        }
      ]
    },
    {
      "cell_type": "code",
      "metadata": {
        "id": "ByMYTuI1QTfj",
        "colab": {
          "base_uri": "https://localhost:8080/"
        },
        "outputId": "a5ebd071-22ce-4795-b865-5f3a27b13d3b"
      },
      "source": [
        "dftest_healthinsurance.isnull().sum()"
      ],
      "execution_count": 32,
      "outputs": [
        {
          "output_type": "execute_result",
          "data": {
            "text/plain": [
              "ID                         0\n",
              "City_Code                  0\n",
              "Region_Code                0\n",
              "Accomodation_Type          0\n",
              "Reco_Insurance_Type        0\n",
              "Upper_Age                  0\n",
              "Lower_Age                  0\n",
              "Is_Spouse                  0\n",
              "Health_Indicator           0\n",
              "Holding_Policy_Duration    0\n",
              "Holding_Policy_Type        0\n",
              "Reco_Policy_Cat            0\n",
              "Reco_Policy_Premium        0\n",
              "dtype: int64"
            ]
          },
          "metadata": {
            "tags": []
          },
          "execution_count": 32
        }
      ]
    },
    {
      "cell_type": "markdown",
      "metadata": {
        "id": "xCzOVAwHQnLQ"
      },
      "source": [
        "### Converting object dtype columns to numeric dtype"
      ]
    },
    {
      "cell_type": "code",
      "metadata": {
        "id": "JoMu2jvlowYB",
        "colab": {
          "base_uri": "https://localhost:8080/"
        },
        "outputId": "e08a121d-ba27-46d1-d6b2-ac9fe694d9c1"
      },
      "source": [
        "# getting all object dtype columns name\r\n",
        "objectcol_list = list(df_healthinsurance.select_dtypes(['object']).columns)\r\n",
        "objectcol_list"
      ],
      "execution_count": 33,
      "outputs": [
        {
          "output_type": "execute_result",
          "data": {
            "text/plain": [
              "['City_Code',\n",
              " 'Accomodation_Type',\n",
              " 'Reco_Insurance_Type',\n",
              " 'Is_Spouse',\n",
              " 'Health_Indicator',\n",
              " 'Holding_Policy_Duration']"
            ]
          },
          "metadata": {
            "tags": []
          },
          "execution_count": 33
        }
      ]
    },
    {
      "cell_type": "markdown",
      "metadata": {
        "id": "mh8v4ajQQ39N"
      },
      "source": [
        "Finding the unique values and also checking whether the unique values are same in train and test dataset. As while converting object dtype to numeric dtype if both the train and test dataset doesn't have same unique values it will create a discrepancy in these columns values which may affect the prediction results of the model. Though these dataset has same unique values in each of the object dtype columns in both train and test, then though I had combined both train and test to perform the conversion of object dtype to numeric dtype using astype('category').cat.codes as this doesnot create extra columns like get_dummies. Later again separated train and test dataset."
      ]
    },
    {
      "cell_type": "code",
      "metadata": {
        "id": "n629VDh5uEQF",
        "colab": {
          "base_uri": "https://localhost:8080/"
        },
        "outputId": "4910b720-a84c-4545-f403-ecd8605080d6"
      },
      "source": [
        "df_healthinsurance['City_Code'].value_counts().sort_index()"
      ],
      "execution_count": 34,
      "outputs": [
        {
          "output_type": "execute_result",
          "data": {
            "text/plain": [
              "C1     8973\n",
              "C10    1611\n",
              "C11    1147\n",
              "C12     868\n",
              "C13    1005\n",
              "C14     746\n",
              "C15    1186\n",
              "C16    1135\n",
              "C17    1159\n",
              "C18     797\n",
              "C19     899\n",
              "C2     7747\n",
              "C20     926\n",
              "C21     679\n",
              "C22     516\n",
              "C23     587\n",
              "C24     553\n",
              "C25     366\n",
              "C26     499\n",
              "C27     295\n",
              "C28     285\n",
              "C29     387\n",
              "C3     4889\n",
              "C30      58\n",
              "C31      15\n",
              "C32     160\n",
              "C33     286\n",
              "C34     130\n",
              "C35      56\n",
              "C36      36\n",
              "C4     3671\n",
              "C5     1364\n",
              "C6     1950\n",
              "C7     1910\n",
              "C8     1806\n",
              "C9     2185\n",
              "Name: City_Code, dtype: int64"
            ]
          },
          "metadata": {
            "tags": []
          },
          "execution_count": 34
        }
      ]
    },
    {
      "cell_type": "code",
      "metadata": {
        "id": "5nl78R7_qk7S",
        "colab": {
          "base_uri": "https://localhost:8080/"
        },
        "outputId": "b43dc0ec-8c5b-4f8e-988d-bdbca71c44f1"
      },
      "source": [
        "df_healthinsurance['City_Code'].value_counts().sort_index().index.tolist() == dftest_healthinsurance['City_Code'].value_counts().sort_index().index.tolist()"
      ],
      "execution_count": 35,
      "outputs": [
        {
          "output_type": "execute_result",
          "data": {
            "text/plain": [
              "True"
            ]
          },
          "metadata": {
            "tags": []
          },
          "execution_count": 35
        }
      ]
    },
    {
      "cell_type": "code",
      "metadata": {
        "id": "fFX-l4NUuYNA",
        "colab": {
          "base_uri": "https://localhost:8080/"
        },
        "outputId": "72c2eb9a-6a44-4941-8df0-8bf663e9cf7a"
      },
      "source": [
        "df_healthinsurance['Accomodation_Type'].value_counts().sort_index()"
      ],
      "execution_count": 36,
      "outputs": [
        {
          "output_type": "execute_result",
          "data": {
            "text/plain": [
              "Owned     27951\n",
              "Rented    22931\n",
              "Name: Accomodation_Type, dtype: int64"
            ]
          },
          "metadata": {
            "tags": []
          },
          "execution_count": 36
        }
      ]
    },
    {
      "cell_type": "code",
      "metadata": {
        "id": "V3A3GHgrvz2L",
        "colab": {
          "base_uri": "https://localhost:8080/"
        },
        "outputId": "97cdd597-b5fc-47cc-f32c-8173156eda90"
      },
      "source": [
        "df_healthinsurance['Accomodation_Type'].value_counts().sort_index().index.tolist() == dftest_healthinsurance['Accomodation_Type'].value_counts().sort_index().index.tolist()"
      ],
      "execution_count": 37,
      "outputs": [
        {
          "output_type": "execute_result",
          "data": {
            "text/plain": [
              "True"
            ]
          },
          "metadata": {
            "tags": []
          },
          "execution_count": 37
        }
      ]
    },
    {
      "cell_type": "code",
      "metadata": {
        "id": "jI2EZokw7YBn",
        "colab": {
          "base_uri": "https://localhost:8080/"
        },
        "outputId": "ccc263f5-d523-45ac-f009-5af3f647714f"
      },
      "source": [
        "df_healthinsurance['Reco_Insurance_Type'].value_counts().sort_index()"
      ],
      "execution_count": 38,
      "outputs": [
        {
          "output_type": "execute_result",
          "data": {
            "text/plain": [
              "Individual    40536\n",
              "Joint         10346\n",
              "Name: Reco_Insurance_Type, dtype: int64"
            ]
          },
          "metadata": {
            "tags": []
          },
          "execution_count": 38
        }
      ]
    },
    {
      "cell_type": "code",
      "metadata": {
        "id": "K9KKbq6Ev_Uj",
        "colab": {
          "base_uri": "https://localhost:8080/"
        },
        "outputId": "ee3ee6fe-a470-42f6-8345-4365128b03b9"
      },
      "source": [
        "df_healthinsurance['Reco_Insurance_Type'].value_counts().sort_index().index.tolist() == dftest_healthinsurance['Reco_Insurance_Type'].value_counts().sort_index().index.tolist()"
      ],
      "execution_count": 39,
      "outputs": [
        {
          "output_type": "execute_result",
          "data": {
            "text/plain": [
              "True"
            ]
          },
          "metadata": {
            "tags": []
          },
          "execution_count": 39
        }
      ]
    },
    {
      "cell_type": "code",
      "metadata": {
        "id": "cv-cI5PTtuLj",
        "colab": {
          "base_uri": "https://localhost:8080/"
        },
        "outputId": "76825691-0f4d-4537-e746-35680ac523b3"
      },
      "source": [
        "df_healthinsurance['Is_Spouse'].value_counts().sort_index()"
      ],
      "execution_count": 40,
      "outputs": [
        {
          "output_type": "execute_result",
          "data": {
            "text/plain": [
              "No     42460\n",
              "Yes     8422\n",
              "Name: Is_Spouse, dtype: int64"
            ]
          },
          "metadata": {
            "tags": []
          },
          "execution_count": 40
        }
      ]
    },
    {
      "cell_type": "code",
      "metadata": {
        "id": "sC0dn2gSwaB9",
        "colab": {
          "base_uri": "https://localhost:8080/"
        },
        "outputId": "9497c1ca-c47a-4488-8983-ad630c5a8d05"
      },
      "source": [
        "df_healthinsurance['Is_Spouse'].value_counts().sort_index().index.tolist() == dftest_healthinsurance['Is_Spouse'].value_counts().sort_index().index.tolist()"
      ],
      "execution_count": 41,
      "outputs": [
        {
          "output_type": "execute_result",
          "data": {
            "text/plain": [
              "True"
            ]
          },
          "metadata": {
            "tags": []
          },
          "execution_count": 41
        }
      ]
    },
    {
      "cell_type": "code",
      "metadata": {
        "id": "bk-xzs-47o8H",
        "colab": {
          "base_uri": "https://localhost:8080/"
        },
        "outputId": "49fc348f-bf01-4094-840b-42bd4cbf474c"
      },
      "source": [
        "df_healthinsurance['Health_Indicator'].value_counts().sort_index()"
      ],
      "execution_count": 42,
      "outputs": [
        {
          "output_type": "execute_result",
          "data": {
            "text/plain": [
              "X1    24701\n",
              "X2    10332\n",
              "X3     6762\n",
              "X4     5743\n",
              "X5     1727\n",
              "X6     1280\n",
              "X7      196\n",
              "X8       78\n",
              "X9       63\n",
              "Name: Health_Indicator, dtype: int64"
            ]
          },
          "metadata": {
            "tags": []
          },
          "execution_count": 42
        }
      ]
    },
    {
      "cell_type": "code",
      "metadata": {
        "id": "ZQXTyJ6Qwb3U",
        "colab": {
          "base_uri": "https://localhost:8080/"
        },
        "outputId": "c2822ea7-ae8e-4957-a1ba-16d43097b5a6"
      },
      "source": [
        "df_healthinsurance['Health_Indicator'].value_counts().sort_index().index.tolist() == dftest_healthinsurance['Health_Indicator'].value_counts().sort_index().index.tolist()"
      ],
      "execution_count": 43,
      "outputs": [
        {
          "output_type": "execute_result",
          "data": {
            "text/plain": [
              "True"
            ]
          },
          "metadata": {
            "tags": []
          },
          "execution_count": 43
        }
      ]
    },
    {
      "cell_type": "code",
      "metadata": {
        "id": "26yY-81K7-gC",
        "colab": {
          "base_uri": "https://localhost:8080/"
        },
        "outputId": "352147f7-4c67-457e-f473-e3f4abcb4b39"
      },
      "source": [
        "df_healthinsurance['Holding_Policy_Duration'].value_counts().sort_index()"
      ],
      "execution_count": 44,
      "outputs": [
        {
          "output_type": "execute_result",
          "data": {
            "text/plain": [
              "1.0     24750\n",
              "10.0      813\n",
              "11.0      546\n",
              "12.0      513\n",
              "13.0      511\n",
              "14+      4335\n",
              "14.0      466\n",
              "2.0      4260\n",
              "3.0      3586\n",
              "4.0      2771\n",
              "5.0      2362\n",
              "6.0      1894\n",
              "7.0      1645\n",
              "8.0      1316\n",
              "9.0      1114\n",
              "Name: Holding_Policy_Duration, dtype: int64"
            ]
          },
          "metadata": {
            "tags": []
          },
          "execution_count": 44
        }
      ]
    },
    {
      "cell_type": "code",
      "metadata": {
        "id": "YwoICgw-wajM",
        "colab": {
          "base_uri": "https://localhost:8080/"
        },
        "outputId": "26c30ef7-3934-46ee-93b1-e7c1263ee7b1"
      },
      "source": [
        "df_healthinsurance['Holding_Policy_Duration'].value_counts().sort_index().index.tolist() == dftest_healthinsurance['Holding_Policy_Duration'].value_counts().sort_index().index.tolist()"
      ],
      "execution_count": 45,
      "outputs": [
        {
          "output_type": "execute_result",
          "data": {
            "text/plain": [
              "True"
            ]
          },
          "metadata": {
            "tags": []
          },
          "execution_count": 45
        }
      ]
    },
    {
      "cell_type": "code",
      "metadata": {
        "id": "x3v-cyR629Jv"
      },
      "source": [
        "df_healthinsurance['Training_Dataset']  = 1\r\n",
        "dftest_healthinsurance['Training_Dataset']  = 0\r\n",
        "tempcombine_df = pd.concat([df_healthinsurance,dftest_healthinsurance])\r\n",
        "tempcombine_df.reset_index(drop = True, inplace = True)"
      ],
      "execution_count": 46,
      "outputs": []
    },
    {
      "cell_type": "code",
      "metadata": {
        "id": "yxeChO1V4Sbv"
      },
      "source": [
        "tempcombine_df['City_Code'] = tempcombine_df['City_Code'].astype('category').cat.codes\r\n",
        "tempcombine_df['Accomodation_Type'] = tempcombine_df['Accomodation_Type'].astype('category').cat.codes\r\n",
        "tempcombine_df['Reco_Insurance_Type'] = tempcombine_df['Reco_Insurance_Type'].astype('category').cat.codes\r\n",
        "tempcombine_df['Is_Spouse'] = tempcombine_df['Is_Spouse'].astype('category').cat.codes\r\n",
        "tempcombine_df['Health_Indicator'] = tempcombine_df['Health_Indicator'].astype('category').cat.codes\r\n",
        "tempcombine_df['Holding_Policy_Duration'] = tempcombine_df['Holding_Policy_Duration'].astype('category').cat.codes"
      ],
      "execution_count": 47,
      "outputs": []
    },
    {
      "cell_type": "code",
      "metadata": {
        "id": "b8Dtey7V3lZN"
      },
      "source": [
        "df_healthinsurance = tempcombine_df[tempcombine_df['Training_Dataset']  == 1]\r\n",
        "df_healthinsurance.drop(['Training_Dataset'], axis = 1, inplace = True)\r\n",
        "df_healthinsurance.reset_index(drop = True, inplace = True)"
      ],
      "execution_count": 48,
      "outputs": []
    },
    {
      "cell_type": "code",
      "metadata": {
        "id": "cgv3yMcP4OKD"
      },
      "source": [
        "dftest_healthinsurance = tempcombine_df[tempcombine_df['Training_Dataset']  == 0]\r\n",
        "dftest_healthinsurance.drop(['Training_Dataset', 'Response'], axis = 1, inplace = True)\r\n",
        "dftest_healthinsurance.reset_index(drop = True, inplace = True)"
      ],
      "execution_count": 49,
      "outputs": []
    },
    {
      "cell_type": "markdown",
      "metadata": {
        "id": "Ebl2yPAQaYXh"
      },
      "source": [
        "### Feature engineering "
      ]
    },
    {
      "cell_type": "code",
      "metadata": {
        "id": "_SuZCJgAB8yQ"
      },
      "source": [
        "# finding the mean of the values in each of the Upper_Age and  Lower_Age columns datapoints (row-wise) \r\n",
        "# that is mean of upper age and lower age at row 0 index for 0 index row datapoint in Mean_Age column and so on. \r\n",
        "df_healthinsurance['Mean_Age'] = [np.mean([val['Upper_Age'], val['Lower_Age']]) for idx, val in df_healthinsurance.iterrows()] \r\n",
        "dftest_healthinsurance['Mean_Age'] = [np.mean([val['Upper_Age'], val['Lower_Age']]) for idx, val in dftest_healthinsurance.iterrows()] \r\n",
        "\r\n",
        "# removing ID column as it is not important independent feature for the dependent feature\r\n",
        "# removing Upper_Age and  Lower_Age column as we have mean of each of the two columns datapoints in Mean_Age column\r\n",
        "temptestdf = dftest_healthinsurance.copy() # making a copy to get the index and ID for the predction submission file\r\n",
        "df_healthinsurance.drop(['ID','Upper_Age', 'Lower_Age'], axis = 1, inplace =True)\r\n",
        "dftest_healthinsurance.drop(['ID','Upper_Age', 'Lower_Age'], axis = 1, inplace =True)"
      ],
      "execution_count": 50,
      "outputs": []
    },
    {
      "cell_type": "code",
      "metadata": {
        "id": "PtzaU6Ifcolm",
        "colab": {
          "base_uri": "https://localhost:8080/"
        },
        "outputId": "9c211aec-d64f-4efb-d8a2-54bb48cdca17"
      },
      "source": [
        "# getting brief overview of the dataset column dtype\r\n",
        "df_healthinsurance.info()"
      ],
      "execution_count": 51,
      "outputs": [
        {
          "output_type": "stream",
          "text": [
            "<class 'pandas.core.frame.DataFrame'>\n",
            "RangeIndex: 50882 entries, 0 to 50881\n",
            "Data columns (total 12 columns):\n",
            " #   Column                   Non-Null Count  Dtype  \n",
            "---  ------                   --------------  -----  \n",
            " 0   City_Code                50882 non-null  int8   \n",
            " 1   Region_Code              50882 non-null  int64  \n",
            " 2   Accomodation_Type        50882 non-null  int8   \n",
            " 3   Reco_Insurance_Type      50882 non-null  int8   \n",
            " 4   Is_Spouse                50882 non-null  int8   \n",
            " 5   Health_Indicator         50882 non-null  int8   \n",
            " 6   Holding_Policy_Duration  50882 non-null  int8   \n",
            " 7   Holding_Policy_Type      50882 non-null  float64\n",
            " 8   Reco_Policy_Cat          50882 non-null  int64  \n",
            " 9   Reco_Policy_Premium      50882 non-null  float64\n",
            " 10  Response                 50882 non-null  float64\n",
            " 11  Mean_Age                 50882 non-null  float64\n",
            "dtypes: float64(4), int64(2), int8(6)\n",
            "memory usage: 2.6 MB\n"
          ],
          "name": "stdout"
        }
      ]
    },
    {
      "cell_type": "code",
      "metadata": {
        "id": "5KvNTbzEcqXL",
        "colab": {
          "base_uri": "https://localhost:8080/"
        },
        "outputId": "5dea62bf-d80c-4134-b3ab-213c8d224c4b"
      },
      "source": [
        "# getting brief overview of the dataset column dtype\r\n",
        "dftest_healthinsurance.info()"
      ],
      "execution_count": 52,
      "outputs": [
        {
          "output_type": "stream",
          "text": [
            "<class 'pandas.core.frame.DataFrame'>\n",
            "RangeIndex: 21805 entries, 0 to 21804\n",
            "Data columns (total 11 columns):\n",
            " #   Column                   Non-Null Count  Dtype  \n",
            "---  ------                   --------------  -----  \n",
            " 0   City_Code                21805 non-null  int8   \n",
            " 1   Region_Code              21805 non-null  int64  \n",
            " 2   Accomodation_Type        21805 non-null  int8   \n",
            " 3   Reco_Insurance_Type      21805 non-null  int8   \n",
            " 4   Is_Spouse                21805 non-null  int8   \n",
            " 5   Health_Indicator         21805 non-null  int8   \n",
            " 6   Holding_Policy_Duration  21805 non-null  int8   \n",
            " 7   Holding_Policy_Type      21805 non-null  float64\n",
            " 8   Reco_Policy_Cat          21805 non-null  int64  \n",
            " 9   Reco_Policy_Premium      21805 non-null  float64\n",
            " 10  Mean_Age                 21805 non-null  float64\n",
            "dtypes: float64(3), int64(2), int8(6)\n",
            "memory usage: 979.6 KB\n"
          ],
          "name": "stdout"
        }
      ]
    },
    {
      "cell_type": "code",
      "metadata": {
        "id": "qCuw0GX_c1Sj",
        "colab": {
          "base_uri": "https://localhost:8080/",
          "height": 317
        },
        "outputId": "5ece10e9-6203-4af1-825f-6a303cb5c3ab"
      },
      "source": [
        "# basic statistical details\r\n",
        "df_healthinsurance.describe()"
      ],
      "execution_count": 53,
      "outputs": [
        {
          "output_type": "execute_result",
          "data": {
            "text/html": [
              "<div>\n",
              "<style scoped>\n",
              "    .dataframe tbody tr th:only-of-type {\n",
              "        vertical-align: middle;\n",
              "    }\n",
              "\n",
              "    .dataframe tbody tr th {\n",
              "        vertical-align: top;\n",
              "    }\n",
              "\n",
              "    .dataframe thead th {\n",
              "        text-align: right;\n",
              "    }\n",
              "</style>\n",
              "<table border=\"1\" class=\"dataframe\">\n",
              "  <thead>\n",
              "    <tr style=\"text-align: right;\">\n",
              "      <th></th>\n",
              "      <th>City_Code</th>\n",
              "      <th>Region_Code</th>\n",
              "      <th>Accomodation_Type</th>\n",
              "      <th>Reco_Insurance_Type</th>\n",
              "      <th>Is_Spouse</th>\n",
              "      <th>Health_Indicator</th>\n",
              "      <th>Holding_Policy_Duration</th>\n",
              "      <th>Holding_Policy_Type</th>\n",
              "      <th>Reco_Policy_Cat</th>\n",
              "      <th>Reco_Policy_Premium</th>\n",
              "      <th>Response</th>\n",
              "      <th>Mean_Age</th>\n",
              "    </tr>\n",
              "  </thead>\n",
              "  <tbody>\n",
              "    <tr>\n",
              "      <th>count</th>\n",
              "      <td>50882.000000</td>\n",
              "      <td>50882.000000</td>\n",
              "      <td>50882.000000</td>\n",
              "      <td>50882.000000</td>\n",
              "      <td>50882.000000</td>\n",
              "      <td>50882.000000</td>\n",
              "      <td>50882.000000</td>\n",
              "      <td>50882.000000</td>\n",
              "      <td>50882.000000</td>\n",
              "      <td>50882.000000</td>\n",
              "      <td>50882.000000</td>\n",
              "      <td>50882.000000</td>\n",
              "    </tr>\n",
              "    <tr>\n",
              "      <th>mean</th>\n",
              "      <td>14.974981</td>\n",
              "      <td>1732.788707</td>\n",
              "      <td>0.450670</td>\n",
              "      <td>0.203333</td>\n",
              "      <td>0.165520</td>\n",
              "      <td>1.112751</td>\n",
              "      <td>4.133171</td>\n",
              "      <td>2.662415</td>\n",
              "      <td>15.115188</td>\n",
              "      <td>14183.950069</td>\n",
              "      <td>0.239947</td>\n",
              "      <td>43.797571</td>\n",
              "    </tr>\n",
              "    <tr>\n",
              "      <th>std</th>\n",
              "      <td>12.147432</td>\n",
              "      <td>1424.081652</td>\n",
              "      <td>0.497566</td>\n",
              "      <td>0.402482</td>\n",
              "      <td>0.371653</td>\n",
              "      <td>1.406159</td>\n",
              "      <td>4.601652</td>\n",
              "      <td>0.841994</td>\n",
              "      <td>6.340663</td>\n",
              "      <td>6590.074873</td>\n",
              "      <td>0.427055</td>\n",
              "      <td>16.971142</td>\n",
              "    </tr>\n",
              "    <tr>\n",
              "      <th>min</th>\n",
              "      <td>0.000000</td>\n",
              "      <td>1.000000</td>\n",
              "      <td>0.000000</td>\n",
              "      <td>0.000000</td>\n",
              "      <td>0.000000</td>\n",
              "      <td>0.000000</td>\n",
              "      <td>0.000000</td>\n",
              "      <td>1.000000</td>\n",
              "      <td>1.000000</td>\n",
              "      <td>2280.000000</td>\n",
              "      <td>0.000000</td>\n",
              "      <td>17.500000</td>\n",
              "    </tr>\n",
              "    <tr>\n",
              "      <th>25%</th>\n",
              "      <td>4.000000</td>\n",
              "      <td>523.000000</td>\n",
              "      <td>0.000000</td>\n",
              "      <td>0.000000</td>\n",
              "      <td>0.000000</td>\n",
              "      <td>0.000000</td>\n",
              "      <td>0.000000</td>\n",
              "      <td>2.000000</td>\n",
              "      <td>12.000000</td>\n",
              "      <td>9248.000000</td>\n",
              "      <td>0.000000</td>\n",
              "      <td>28.000000</td>\n",
              "    </tr>\n",
              "    <tr>\n",
              "      <th>50%</th>\n",
              "      <td>11.000000</td>\n",
              "      <td>1391.000000</td>\n",
              "      <td>0.000000</td>\n",
              "      <td>0.000000</td>\n",
              "      <td>0.000000</td>\n",
              "      <td>1.000000</td>\n",
              "      <td>1.000000</td>\n",
              "      <td>3.000000</td>\n",
              "      <td>17.000000</td>\n",
              "      <td>13178.000000</td>\n",
              "      <td>0.000000</td>\n",
              "      <td>42.000000</td>\n",
              "    </tr>\n",
              "    <tr>\n",
              "      <th>75%</th>\n",
              "      <td>30.000000</td>\n",
              "      <td>2667.000000</td>\n",
              "      <td>1.000000</td>\n",
              "      <td>0.000000</td>\n",
              "      <td>0.000000</td>\n",
              "      <td>2.000000</td>\n",
              "      <td>8.000000</td>\n",
              "      <td>3.000000</td>\n",
              "      <td>20.000000</td>\n",
              "      <td>18096.000000</td>\n",
              "      <td>0.000000</td>\n",
              "      <td>58.000000</td>\n",
              "    </tr>\n",
              "    <tr>\n",
              "      <th>max</th>\n",
              "      <td>35.000000</td>\n",
              "      <td>6194.000000</td>\n",
              "      <td>1.000000</td>\n",
              "      <td>1.000000</td>\n",
              "      <td>1.000000</td>\n",
              "      <td>8.000000</td>\n",
              "      <td>14.000000</td>\n",
              "      <td>4.000000</td>\n",
              "      <td>22.000000</td>\n",
              "      <td>43350.400000</td>\n",
              "      <td>1.000000</td>\n",
              "      <td>75.000000</td>\n",
              "    </tr>\n",
              "  </tbody>\n",
              "</table>\n",
              "</div>"
            ],
            "text/plain": [
              "          City_Code   Region_Code  ...      Response      Mean_Age\n",
              "count  50882.000000  50882.000000  ...  50882.000000  50882.000000\n",
              "mean      14.974981   1732.788707  ...      0.239947     43.797571\n",
              "std       12.147432   1424.081652  ...      0.427055     16.971142\n",
              "min        0.000000      1.000000  ...      0.000000     17.500000\n",
              "25%        4.000000    523.000000  ...      0.000000     28.000000\n",
              "50%       11.000000   1391.000000  ...      0.000000     42.000000\n",
              "75%       30.000000   2667.000000  ...      0.000000     58.000000\n",
              "max       35.000000   6194.000000  ...      1.000000     75.000000\n",
              "\n",
              "[8 rows x 12 columns]"
            ]
          },
          "metadata": {
            "tags": []
          },
          "execution_count": 53
        }
      ]
    },
    {
      "cell_type": "code",
      "metadata": {
        "id": "k3O42xR4dGil",
        "colab": {
          "base_uri": "https://localhost:8080/",
          "height": 317
        },
        "outputId": "d756720f-f0a1-4759-a43d-f10edbefb892"
      },
      "source": [
        "# basic statistical details\r\n",
        "dftest_healthinsurance.describe()"
      ],
      "execution_count": 54,
      "outputs": [
        {
          "output_type": "execute_result",
          "data": {
            "text/html": [
              "<div>\n",
              "<style scoped>\n",
              "    .dataframe tbody tr th:only-of-type {\n",
              "        vertical-align: middle;\n",
              "    }\n",
              "\n",
              "    .dataframe tbody tr th {\n",
              "        vertical-align: top;\n",
              "    }\n",
              "\n",
              "    .dataframe thead th {\n",
              "        text-align: right;\n",
              "    }\n",
              "</style>\n",
              "<table border=\"1\" class=\"dataframe\">\n",
              "  <thead>\n",
              "    <tr style=\"text-align: right;\">\n",
              "      <th></th>\n",
              "      <th>City_Code</th>\n",
              "      <th>Region_Code</th>\n",
              "      <th>Accomodation_Type</th>\n",
              "      <th>Reco_Insurance_Type</th>\n",
              "      <th>Is_Spouse</th>\n",
              "      <th>Health_Indicator</th>\n",
              "      <th>Holding_Policy_Duration</th>\n",
              "      <th>Holding_Policy_Type</th>\n",
              "      <th>Reco_Policy_Cat</th>\n",
              "      <th>Reco_Policy_Premium</th>\n",
              "      <th>Mean_Age</th>\n",
              "    </tr>\n",
              "  </thead>\n",
              "  <tbody>\n",
              "    <tr>\n",
              "      <th>count</th>\n",
              "      <td>21805.000000</td>\n",
              "      <td>21805.000000</td>\n",
              "      <td>21805.000000</td>\n",
              "      <td>21805.000000</td>\n",
              "      <td>21805.000000</td>\n",
              "      <td>21805.000000</td>\n",
              "      <td>21805.000000</td>\n",
              "      <td>21805.000000</td>\n",
              "      <td>21805.000000</td>\n",
              "      <td>21805.000000</td>\n",
              "      <td>21805.000000</td>\n",
              "    </tr>\n",
              "    <tr>\n",
              "      <th>mean</th>\n",
              "      <td>14.889750</td>\n",
              "      <td>1748.737491</td>\n",
              "      <td>0.445540</td>\n",
              "      <td>0.204724</td>\n",
              "      <td>0.164091</td>\n",
              "      <td>1.096767</td>\n",
              "      <td>6.157808</td>\n",
              "      <td>2.660995</td>\n",
              "      <td>15.138363</td>\n",
              "      <td>14220.306581</td>\n",
              "      <td>43.812910</td>\n",
              "    </tr>\n",
              "    <tr>\n",
              "      <th>std</th>\n",
              "      <td>12.091854</td>\n",
              "      <td>1438.358949</td>\n",
              "      <td>0.497037</td>\n",
              "      <td>0.403509</td>\n",
              "      <td>0.370366</td>\n",
              "      <td>1.398623</td>\n",
              "      <td>3.275199</td>\n",
              "      <td>0.852497</td>\n",
              "      <td>6.302805</td>\n",
              "      <td>6497.996164</td>\n",
              "      <td>16.916164</td>\n",
              "    </tr>\n",
              "    <tr>\n",
              "      <th>min</th>\n",
              "      <td>0.000000</td>\n",
              "      <td>1.000000</td>\n",
              "      <td>0.000000</td>\n",
              "      <td>0.000000</td>\n",
              "      <td>0.000000</td>\n",
              "      <td>0.000000</td>\n",
              "      <td>0.000000</td>\n",
              "      <td>1.000000</td>\n",
              "      <td>1.000000</td>\n",
              "      <td>2152.000000</td>\n",
              "      <td>18.000000</td>\n",
              "    </tr>\n",
              "    <tr>\n",
              "      <th>25%</th>\n",
              "      <td>4.000000</td>\n",
              "      <td>535.000000</td>\n",
              "      <td>0.000000</td>\n",
              "      <td>0.000000</td>\n",
              "      <td>0.000000</td>\n",
              "      <td>0.000000</td>\n",
              "      <td>5.000000</td>\n",
              "      <td>2.000000</td>\n",
              "      <td>12.000000</td>\n",
              "      <td>9285.000000</td>\n",
              "      <td>28.000000</td>\n",
              "    </tr>\n",
              "    <tr>\n",
              "      <th>50%</th>\n",
              "      <td>11.000000</td>\n",
              "      <td>1392.000000</td>\n",
              "      <td>0.000000</td>\n",
              "      <td>0.000000</td>\n",
              "      <td>0.000000</td>\n",
              "      <td>1.000000</td>\n",
              "      <td>5.000000</td>\n",
              "      <td>3.000000</td>\n",
              "      <td>17.000000</td>\n",
              "      <td>13244.000000</td>\n",
              "      <td>42.000000</td>\n",
              "    </tr>\n",
              "    <tr>\n",
              "      <th>75%</th>\n",
              "      <td>29.000000</td>\n",
              "      <td>2712.000000</td>\n",
              "      <td>1.000000</td>\n",
              "      <td>0.000000</td>\n",
              "      <td>0.000000</td>\n",
              "      <td>2.000000</td>\n",
              "      <td>8.000000</td>\n",
              "      <td>3.000000</td>\n",
              "      <td>20.000000</td>\n",
              "      <td>18201.600000</td>\n",
              "      <td>58.000000</td>\n",
              "    </tr>\n",
              "    <tr>\n",
              "      <th>max</th>\n",
              "      <td>35.000000</td>\n",
              "      <td>6185.000000</td>\n",
              "      <td>1.000000</td>\n",
              "      <td>1.000000</td>\n",
              "      <td>1.000000</td>\n",
              "      <td>8.000000</td>\n",
              "      <td>14.000000</td>\n",
              "      <td>4.000000</td>\n",
              "      <td>22.000000</td>\n",
              "      <td>43776.000000</td>\n",
              "      <td>75.000000</td>\n",
              "    </tr>\n",
              "  </tbody>\n",
              "</table>\n",
              "</div>"
            ],
            "text/plain": [
              "          City_Code   Region_Code  ...  Reco_Policy_Premium      Mean_Age\n",
              "count  21805.000000  21805.000000  ...         21805.000000  21805.000000\n",
              "mean      14.889750   1748.737491  ...         14220.306581     43.812910\n",
              "std       12.091854   1438.358949  ...          6497.996164     16.916164\n",
              "min        0.000000      1.000000  ...          2152.000000     18.000000\n",
              "25%        4.000000    535.000000  ...          9285.000000     28.000000\n",
              "50%       11.000000   1392.000000  ...         13244.000000     42.000000\n",
              "75%       29.000000   2712.000000  ...         18201.600000     58.000000\n",
              "max       35.000000   6185.000000  ...         43776.000000     75.000000\n",
              "\n",
              "[8 rows x 11 columns]"
            ]
          },
          "metadata": {
            "tags": []
          },
          "execution_count": 54
        }
      ]
    },
    {
      "cell_type": "markdown",
      "metadata": {
        "id": "T5LX46-dbpyB"
      },
      "source": [
        "### Balancing the dataset dependent variable"
      ]
    },
    {
      "cell_type": "code",
      "metadata": {
        "id": "o-nsxXdwdU1T",
        "colab": {
          "base_uri": "https://localhost:8080/"
        },
        "outputId": "48adfe28-418f-480b-fc31-c9c42cdaa02c"
      },
      "source": [
        "# list of independent features\r\n",
        "colname = list(df_healthinsurance.columns)\r\n",
        "colname.remove('Response')\r\n",
        "colname"
      ],
      "execution_count": 55,
      "outputs": [
        {
          "output_type": "execute_result",
          "data": {
            "text/plain": [
              "['City_Code',\n",
              " 'Region_Code',\n",
              " 'Accomodation_Type',\n",
              " 'Reco_Insurance_Type',\n",
              " 'Is_Spouse',\n",
              " 'Health_Indicator',\n",
              " 'Holding_Policy_Duration',\n",
              " 'Holding_Policy_Type',\n",
              " 'Reco_Policy_Cat',\n",
              " 'Reco_Policy_Premium',\n",
              " 'Mean_Age']"
            ]
          },
          "metadata": {
            "tags": []
          },
          "execution_count": 55
        }
      ]
    },
    {
      "cell_type": "code",
      "metadata": {
        "id": "yqYSuZytRh5j",
        "colab": {
          "base_uri": "https://localhost:8080/"
        },
        "outputId": "b1a8ba38-d9eb-4a29-d351-9897fd68fa66"
      },
      "source": [
        "# Synthetic Minority Oversampling Technique (SMOTE)\r\n",
        "# We have to first split the train dataset into train and test datasets\r\n",
        "# as we want to ensure that our model generalizes well to unseen data\r\n",
        "# by avoiding having exact same observations to be present in both the test and train datasets after SMOTE\r\n",
        "# but here in this competition I am using the entire train dataset to train the models so I am not splitting into train and test datasets.\r\n",
        "\r\n",
        "X = df_healthinsurance.drop('Response', axis = 1)  # we will use the entire train datset in this competition\r\n",
        "y = df_healthinsurance['Response']\r\n",
        "\r\n",
        "from imblearn.over_sampling import SMOTE\r\n",
        "\r\n",
        "func_smote = SMOTE(random_state = 5, sampling_strategy = 1.0) # 1 represents same number of each classes\r\n",
        "\r\n",
        "#fit the sampling\r\n",
        "X, y = func_smote.fit_sample(X, y)\r\n",
        "\r\n",
        "#checking the result of SMOTE application\r\n",
        "uniqueval, counts = np.unique(y, return_counts=True) \r\n",
        "balance_data = dict(zip(uniqueval, counts))\r\n",
        "balance_data"
      ],
      "execution_count": 56,
      "outputs": [
        {
          "output_type": "execute_result",
          "data": {
            "text/plain": [
              "{0.0: 38673, 1.0: 38673}"
            ]
          },
          "metadata": {
            "tags": []
          },
          "execution_count": 56
        }
      ]
    },
    {
      "cell_type": "code",
      "metadata": {
        "id": "CSrUpZ41a8fA",
        "colab": {
          "base_uri": "https://localhost:8080/"
        },
        "outputId": "80ee240c-1dba-4086-fb72-99053a7f6a75"
      },
      "source": [
        "X.shape, y.shape"
      ],
      "execution_count": 57,
      "outputs": [
        {
          "output_type": "execute_result",
          "data": {
            "text/plain": [
              "((77346, 11), (77346,))"
            ]
          },
          "metadata": {
            "tags": []
          },
          "execution_count": 57
        }
      ]
    },
    {
      "cell_type": "markdown",
      "metadata": {
        "id": "3dZFIR2lf63y"
      },
      "source": [
        "### Normalizing the data"
      ]
    },
    {
      "cell_type": "code",
      "metadata": {
        "id": "RWTZNZXodctN",
        "colab": {
          "base_uri": "https://localhost:8080/",
          "height": 224
        },
        "outputId": "da31986e-83b8-4192-c792-55a391058024"
      },
      "source": [
        "# normalizing the data with MinMaxScalar\r\n",
        "minmaxdf_healthinsurance = X\r\n",
        "minmax_scaler = MinMaxScaler()\r\n",
        "minmaxdf_healthinsurance = minmax_scaler.fit_transform(minmaxdf_healthinsurance)\r\n",
        "minmaxdf_healthinsurance = pd.DataFrame(minmaxdf_healthinsurance, columns = colname)\r\n",
        "minmaxdf_healthinsurance['Response'] = y\r\n",
        "minmaxdf_healthinsurance.head()"
      ],
      "execution_count": 58,
      "outputs": [
        {
          "output_type": "execute_result",
          "data": {
            "text/html": [
              "<div>\n",
              "<style scoped>\n",
              "    .dataframe tbody tr th:only-of-type {\n",
              "        vertical-align: middle;\n",
              "    }\n",
              "\n",
              "    .dataframe tbody tr th {\n",
              "        vertical-align: top;\n",
              "    }\n",
              "\n",
              "    .dataframe thead th {\n",
              "        text-align: right;\n",
              "    }\n",
              "</style>\n",
              "<table border=\"1\" class=\"dataframe\">\n",
              "  <thead>\n",
              "    <tr style=\"text-align: right;\">\n",
              "      <th></th>\n",
              "      <th>City_Code</th>\n",
              "      <th>Region_Code</th>\n",
              "      <th>Accomodation_Type</th>\n",
              "      <th>Reco_Insurance_Type</th>\n",
              "      <th>Is_Spouse</th>\n",
              "      <th>Health_Indicator</th>\n",
              "      <th>Holding_Policy_Duration</th>\n",
              "      <th>Holding_Policy_Type</th>\n",
              "      <th>Reco_Policy_Cat</th>\n",
              "      <th>Reco_Policy_Premium</th>\n",
              "      <th>Mean_Age</th>\n",
              "      <th>Response</th>\n",
              "    </tr>\n",
              "  </thead>\n",
              "  <tbody>\n",
              "    <tr>\n",
              "      <th>0</th>\n",
              "      <td>0.628571</td>\n",
              "      <td>0.518650</td>\n",
              "      <td>1.0</td>\n",
              "      <td>0.0</td>\n",
              "      <td>0.0</td>\n",
              "      <td>0.000</td>\n",
              "      <td>0.357143</td>\n",
              "      <td>0.666667</td>\n",
              "      <td>1.000000</td>\n",
              "      <td>0.227609</td>\n",
              "      <td>0.321739</td>\n",
              "      <td>0.0</td>\n",
              "    </tr>\n",
              "    <tr>\n",
              "      <th>1</th>\n",
              "      <td>0.885714</td>\n",
              "      <td>0.180203</td>\n",
              "      <td>0.0</td>\n",
              "      <td>1.0</td>\n",
              "      <td>0.0</td>\n",
              "      <td>0.125</td>\n",
              "      <td>0.000000</td>\n",
              "      <td>0.666667</td>\n",
              "      <td>1.000000</td>\n",
              "      <td>0.687356</td>\n",
              "      <td>0.539130</td>\n",
              "      <td>0.0</td>\n",
              "    </tr>\n",
              "    <tr>\n",
              "      <th>2</th>\n",
              "      <td>0.885714</td>\n",
              "      <td>0.602454</td>\n",
              "      <td>0.0</td>\n",
              "      <td>0.0</td>\n",
              "      <td>0.0</td>\n",
              "      <td>0.000</td>\n",
              "      <td>0.000000</td>\n",
              "      <td>0.000000</td>\n",
              "      <td>0.857143</td>\n",
              "      <td>0.125881</td>\n",
              "      <td>0.252174</td>\n",
              "      <td>1.0</td>\n",
              "    </tr>\n",
              "    <tr>\n",
              "      <th>3</th>\n",
              "      <td>0.457143</td>\n",
              "      <td>0.706766</td>\n",
              "      <td>0.0</td>\n",
              "      <td>1.0</td>\n",
              "      <td>0.0</td>\n",
              "      <td>0.000</td>\n",
              "      <td>0.357143</td>\n",
              "      <td>0.666667</td>\n",
              "      <td>0.857143</td>\n",
              "      <td>0.377401</td>\n",
              "      <td>0.565217</td>\n",
              "      <td>0.0</td>\n",
              "    </tr>\n",
              "    <tr>\n",
              "      <th>4</th>\n",
              "      <td>0.971429</td>\n",
              "      <td>0.353464</td>\n",
              "      <td>1.0</td>\n",
              "      <td>0.0</td>\n",
              "      <td>0.0</td>\n",
              "      <td>0.125</td>\n",
              "      <td>0.571429</td>\n",
              "      <td>0.000000</td>\n",
              "      <td>0.714286</td>\n",
              "      <td>0.197807</td>\n",
              "      <td>0.460870</td>\n",
              "      <td>0.0</td>\n",
              "    </tr>\n",
              "  </tbody>\n",
              "</table>\n",
              "</div>"
            ],
            "text/plain": [
              "   City_Code  Region_Code  ...  Mean_Age  Response\n",
              "0   0.628571     0.518650  ...  0.321739       0.0\n",
              "1   0.885714     0.180203  ...  0.539130       0.0\n",
              "2   0.885714     0.602454  ...  0.252174       1.0\n",
              "3   0.457143     0.706766  ...  0.565217       0.0\n",
              "4   0.971429     0.353464  ...  0.460870       0.0\n",
              "\n",
              "[5 rows x 12 columns]"
            ]
          },
          "metadata": {
            "tags": []
          },
          "execution_count": 58
        }
      ]
    },
    {
      "cell_type": "code",
      "metadata": {
        "id": "yLL_vWmcjxf6",
        "colab": {
          "base_uri": "https://localhost:8080/",
          "height": 224
        },
        "outputId": "5db54c5a-93c2-4cbf-e6f5-aef126d7e864"
      },
      "source": [
        "minmaxdftest_healthinsurance = minmax_scaler.transform(dftest_healthinsurance)\r\n",
        "minmaxdftest_healthinsurance = pd.DataFrame(minmaxdftest_healthinsurance, columns = colname)\r\n",
        "minmaxdftest_healthinsurance.head()"
      ],
      "execution_count": 59,
      "outputs": [
        {
          "output_type": "execute_result",
          "data": {
            "text/html": [
              "<div>\n",
              "<style scoped>\n",
              "    .dataframe tbody tr th:only-of-type {\n",
              "        vertical-align: middle;\n",
              "    }\n",
              "\n",
              "    .dataframe tbody tr th {\n",
              "        vertical-align: top;\n",
              "    }\n",
              "\n",
              "    .dataframe thead th {\n",
              "        text-align: right;\n",
              "    }\n",
              "</style>\n",
              "<table border=\"1\" class=\"dataframe\">\n",
              "  <thead>\n",
              "    <tr style=\"text-align: right;\">\n",
              "      <th></th>\n",
              "      <th>City_Code</th>\n",
              "      <th>Region_Code</th>\n",
              "      <th>Accomodation_Type</th>\n",
              "      <th>Reco_Insurance_Type</th>\n",
              "      <th>Is_Spouse</th>\n",
              "      <th>Health_Indicator</th>\n",
              "      <th>Holding_Policy_Duration</th>\n",
              "      <th>Holding_Policy_Type</th>\n",
              "      <th>Reco_Policy_Cat</th>\n",
              "      <th>Reco_Policy_Premium</th>\n",
              "      <th>Mean_Age</th>\n",
              "    </tr>\n",
              "  </thead>\n",
              "  <tbody>\n",
              "    <tr>\n",
              "      <th>0</th>\n",
              "      <td>0.000000</td>\n",
              "      <td>0.025028</td>\n",
              "      <td>0.0</td>\n",
              "      <td>0.0</td>\n",
              "      <td>0.0</td>\n",
              "      <td>0.00</td>\n",
              "      <td>0.785714</td>\n",
              "      <td>0.666667</td>\n",
              "      <td>0.190476</td>\n",
              "      <td>0.235060</td>\n",
              "      <td>0.217391</td>\n",
              "    </tr>\n",
              "    <tr>\n",
              "      <th>1</th>\n",
              "      <td>0.857143</td>\n",
              "      <td>0.000969</td>\n",
              "      <td>0.0</td>\n",
              "      <td>1.0</td>\n",
              "      <td>1.0</td>\n",
              "      <td>0.00</td>\n",
              "      <td>0.571429</td>\n",
              "      <td>0.666667</td>\n",
              "      <td>0.809524</td>\n",
              "      <td>0.728622</td>\n",
              "      <td>0.886957</td>\n",
              "    </tr>\n",
              "    <tr>\n",
              "      <th>2</th>\n",
              "      <td>0.000000</td>\n",
              "      <td>0.090909</td>\n",
              "      <td>1.0</td>\n",
              "      <td>0.0</td>\n",
              "      <td>0.0</td>\n",
              "      <td>0.25</td>\n",
              "      <td>0.500000</td>\n",
              "      <td>1.000000</td>\n",
              "      <td>0.761905</td>\n",
              "      <td>0.169465</td>\n",
              "      <td>0.182609</td>\n",
              "    </tr>\n",
              "    <tr>\n",
              "      <th>3</th>\n",
              "      <td>0.628571</td>\n",
              "      <td>0.189892</td>\n",
              "      <td>1.0</td>\n",
              "      <td>0.0</td>\n",
              "      <td>0.0</td>\n",
              "      <td>0.25</td>\n",
              "      <td>0.571429</td>\n",
              "      <td>0.666667</td>\n",
              "      <td>0.809524</td>\n",
              "      <td>0.165715</td>\n",
              "      <td>0.095652</td>\n",
              "    </tr>\n",
              "    <tr>\n",
              "      <th>4</th>\n",
              "      <td>0.000000</td>\n",
              "      <td>0.153399</td>\n",
              "      <td>0.0</td>\n",
              "      <td>0.0</td>\n",
              "      <td>0.0</td>\n",
              "      <td>0.25</td>\n",
              "      <td>0.357143</td>\n",
              "      <td>0.666667</td>\n",
              "      <td>0.190476</td>\n",
              "      <td>0.493153</td>\n",
              "      <td>1.000000</td>\n",
              "    </tr>\n",
              "  </tbody>\n",
              "</table>\n",
              "</div>"
            ],
            "text/plain": [
              "   City_Code  Region_Code  ...  Reco_Policy_Premium  Mean_Age\n",
              "0   0.000000     0.025028  ...             0.235060  0.217391\n",
              "1   0.857143     0.000969  ...             0.728622  0.886957\n",
              "2   0.000000     0.090909  ...             0.169465  0.182609\n",
              "3   0.628571     0.189892  ...             0.165715  0.095652\n",
              "4   0.000000     0.153399  ...             0.493153  1.000000\n",
              "\n",
              "[5 rows x 11 columns]"
            ]
          },
          "metadata": {
            "tags": []
          },
          "execution_count": 59
        }
      ]
    },
    {
      "cell_type": "markdown",
      "metadata": {
        "id": "m7l2tKrthXhe"
      },
      "source": [
        "### Finding the correlation and mean-relationship between independent variables and dependent variable"
      ]
    },
    {
      "cell_type": "code",
      "metadata": {
        "id": "gquxhfIffEnh",
        "colab": {
          "base_uri": "https://localhost:8080/",
          "height": 993
        },
        "outputId": "e1b043c2-31a4-4e4f-87ec-fc65a76bbaeb"
      },
      "source": [
        "#finding the correlation between all the variables in a dataset\r\n",
        "features_corr = minmaxdf_healthinsurance.corr()\r\n",
        "plt.figure(figsize=(20,15))\r\n",
        "sns.heatmap(features_corr, annot=True, cmap=\"RdYlGn\")\r\n",
        "plt.show()"
      ],
      "execution_count": 60,
      "outputs": [
        {
          "output_type": "display_data",
          "data": {
            "image/png": "[encoded data removed]",
            "text/plain": [
              "<Figure size 1440x1080 with 2 Axes>"
            ]
          },
          "metadata": {
            "tags": []
          }
        }
      ]
    },
    {
      "cell_type": "code",
      "metadata": {
        "id": "r_zikT_3fEOO",
        "colab": {
          "base_uri": "https://localhost:8080/",
          "height": 162
        },
        "outputId": "2bec7c2d-3277-45ca-c525-8aba66e31b9d"
      },
      "source": [
        "#finding the mean relationship of independent variables with the dependent variable\r\n",
        "minmaxdf_healthinsurance.groupby('Response').mean()"
      ],
      "execution_count": 61,
      "outputs": [
        {
          "output_type": "execute_result",
          "data": {
            "text/html": [
              "<div>\n",
              "<style scoped>\n",
              "    .dataframe tbody tr th:only-of-type {\n",
              "        vertical-align: middle;\n",
              "    }\n",
              "\n",
              "    .dataframe tbody tr th {\n",
              "        vertical-align: top;\n",
              "    }\n",
              "\n",
              "    .dataframe thead th {\n",
              "        text-align: right;\n",
              "    }\n",
              "</style>\n",
              "<table border=\"1\" class=\"dataframe\">\n",
              "  <thead>\n",
              "    <tr style=\"text-align: right;\">\n",
              "      <th></th>\n",
              "      <th>City_Code</th>\n",
              "      <th>Region_Code</th>\n",
              "      <th>Accomodation_Type</th>\n",
              "      <th>Reco_Insurance_Type</th>\n",
              "      <th>Is_Spouse</th>\n",
              "      <th>Health_Indicator</th>\n",
              "      <th>Holding_Policy_Duration</th>\n",
              "      <th>Holding_Policy_Type</th>\n",
              "      <th>Reco_Policy_Cat</th>\n",
              "      <th>Reco_Policy_Premium</th>\n",
              "      <th>Mean_Age</th>\n",
              "    </tr>\n",
              "    <tr>\n",
              "      <th>Response</th>\n",
              "      <th></th>\n",
              "      <th></th>\n",
              "      <th></th>\n",
              "      <th></th>\n",
              "      <th></th>\n",
              "      <th></th>\n",
              "      <th></th>\n",
              "      <th></th>\n",
              "      <th></th>\n",
              "      <th></th>\n",
              "      <th></th>\n",
              "    </tr>\n",
              "  </thead>\n",
              "  <tbody>\n",
              "    <tr>\n",
              "      <th>0.0</th>\n",
              "      <td>0.427953</td>\n",
              "      <td>0.279492</td>\n",
              "      <td>0.452124</td>\n",
              "      <td>0.201096</td>\n",
              "      <td>0.164714</td>\n",
              "      <td>0.138873</td>\n",
              "      <td>0.294225</td>\n",
              "      <td>0.553159</td>\n",
              "      <td>0.652758</td>\n",
              "      <td>0.289126</td>\n",
              "      <td>0.457292</td>\n",
              "    </tr>\n",
              "    <tr>\n",
              "      <th>1.0</th>\n",
              "      <td>0.427086</td>\n",
              "      <td>0.278222</td>\n",
              "      <td>0.445853</td>\n",
              "      <td>0.209761</td>\n",
              "      <td>0.167364</td>\n",
              "      <td>0.139303</td>\n",
              "      <td>0.298368</td>\n",
              "      <td>0.557851</td>\n",
              "      <td>0.735217</td>\n",
              "      <td>0.291912</td>\n",
              "      <td>0.457467</td>\n",
              "    </tr>\n",
              "  </tbody>\n",
              "</table>\n",
              "</div>"
            ],
            "text/plain": [
              "          City_Code  Region_Code  ...  Reco_Policy_Premium  Mean_Age\n",
              "Response                          ...                               \n",
              "0.0        0.427953     0.279492  ...             0.289126  0.457292\n",
              "1.0        0.427086     0.278222  ...             0.291912  0.457467\n",
              "\n",
              "[2 rows x 11 columns]"
            ]
          },
          "metadata": {
            "tags": []
          },
          "execution_count": 61
        }
      ]
    },
    {
      "cell_type": "markdown",
      "metadata": {
        "id": "C6HCTSwQh16D"
      },
      "source": [
        "### Separating the independent variables and dependent variable"
      ]
    },
    {
      "cell_type": "code",
      "metadata": {
        "id": "L7H53fkLh-Rc"
      },
      "source": [
        "# here in this competition I am using the entire dataset to train the models and not dividing it into train and test datasets."
      ],
      "execution_count": 62,
      "outputs": []
    },
    {
      "cell_type": "code",
      "metadata": {
        "id": "zSDf78wiJL7g"
      },
      "source": [
        "#initializing the X (independent variables) and y (dependent variable)\r\n",
        "X = minmaxdf_healthinsurance.drop('Response', axis = 1) \r\n",
        "y = minmaxdf_healthinsurance['Response']"
      ],
      "execution_count": 63,
      "outputs": []
    },
    {
      "cell_type": "markdown",
      "metadata": {
        "id": "r7dPR6z0uU5q"
      },
      "source": [
        "# FirstModel  \r\n",
        "\r\n",
        "# LogisticRegression  \r\n"
      ]
    },
    {
      "cell_type": "code",
      "metadata": {
        "id": "4XCc6rQtJeb3"
      },
      "source": [
        "from sklearn.linear_model import LogisticRegression\r\n",
        "\r\n",
        "# creating the object of LogisticRegression model and assigning it to a variable\r\n",
        "lr_model = LogisticRegression(max_iter=1000, random_state= 42)\r\n",
        "\r\n",
        "# training the model\r\n",
        "lr_model.fit(X,y)\r\n",
        "\r\n",
        "# prediction of Response in test dataset\r\n",
        "lrmodel_prediction = lr_model.predict(minmaxdftest_healthinsurance)"
      ],
      "execution_count": 64,
      "outputs": []
    },
    {
      "cell_type": "code",
      "metadata": {
        "id": "40q7bsfQKIJc",
        "colab": {
          "base_uri": "https://localhost:8080/",
          "height": 17
        },
        "outputId": "1a644db0-ea3b-4c3f-9972-d6dbfba79d3b"
      },
      "source": [
        "# creating a dataset of predicted output\r\n",
        "lrmodel_result = pd.DataFrame(lrmodel_prediction)\r\n",
        "lrmodel_result.index = temptestdf.index # its important for comparison\r\n",
        "lrmodel_result.index = temptestdf['ID']\r\n",
        "lrmodel_result.columns = ['Response']\r\n",
        "\r\n",
        "# To download the csv file locally\r\n",
        "from google.colab import files\r\n",
        "lrmodel_result.to_csv('sample_submission_lrmodel.csv')         \r\n",
        "files.download('sample_submission_lrmodel.csv')"
      ],
      "execution_count": 65,
      "outputs": [
        {
          "output_type": "display_data",
          "data": {
            "application/javascript": [
              "\n",
              "    async function download(id, filename, size) {\n",
              "      if (!google.colab.kernel.accessAllowed) {\n",
              "        return;\n",
              "      }\n",
              "      const div = document.createElement('div');\n",
              "      const label = document.createElement('label');\n",
              "      label.textContent = `Downloading \"${filename}\": `;\n",
              "      div.appendChild(label);\n",
              "      const progress = document.createElement('progress');\n",
              "      progress.max = size;\n",
              "      div.appendChild(progress);\n",
              "      document.body.appendChild(div);\n",
              "\n",
              "      const buffers = [];\n",
              "      let downloaded = 0;\n",
              "\n",
              "      const channel = await google.colab.kernel.comms.open(id);\n",
              "      // Send a message to notify the kernel that we're ready.\n",
              "      channel.send({})\n",
              "\n",
              "      for await (const message of channel.messages) {\n",
              "        // Send a message to notify the kernel that we're ready.\n",
              "        channel.send({})\n",
              "        if (message.buffers) {\n",
              "          for (const buffer of message.buffers) {\n",
              "            buffers.push(buffer);\n",
              "            downloaded += buffer.byteLength;\n",
              "            progress.value = downloaded;\n",
              "          }\n",
              "        }\n",
              "      }\n",
              "      const blob = new Blob(buffers, {type: 'application/binary'});\n",
              "      const a = document.createElement('a');\n",
              "      a.href = window.URL.createObjectURL(blob);\n",
              "      a.download = filename;\n",
              "      div.appendChild(a);\n",
              "      a.click();\n",
              "      div.remove();\n",
              "    }\n",
              "  "
            ],
            "text/plain": [
              "<IPython.core.display.Javascript object>"
            ]
          },
          "metadata": {
            "tags": []
          }
        },
        {
          "output_type": "display_data",
          "data": {
            "application/javascript": [
              "download(\"download_4affb5e5-9cd3-459e-b570-99494fd13ecd\", \"sample_submission_lrmodel.csv\", 218062)"
            ],
            "text/plain": [
              "<IPython.core.display.Javascript object>"
            ]
          },
          "metadata": {
            "tags": []
          }
        }
      ]
    }
  ]
}